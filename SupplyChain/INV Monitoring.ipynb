{
 "cells": [
  {
   "cell_type": "markdown",
   "metadata": {},
   "source": [
    "Revolutionizing Supply Chain tasks which no human assistant dare to tackle\n",
    "\n",
    "- Spend classifier\n",
    "- Fraud Alert\n",
    "- Fat Finger Transaction\n",
    "- Anomaly detection\n",
    "- what if\n",
    "- would, could, should\n",
    "- Receipt Matching\n",
    "- Buy to Pay\n",
    "- Duplicate Invoice validation\n",
    "- vendor rebates\n",
    "- payment terms\n",
    "- on-contract spend\n",
    "- smart supplier\n",
    "- auto inventory replenishment\n",
    "\n",
    "---\n",
    "\n",
    "**Building a dynamic data fabric**"
   ]
  },
  {
   "cell_type": "markdown",
   "metadata": {
    "vscode": {
     "languageId": "plaintext"
    }
   },
   "source": [
    "```mermaid\n",
    "erDiagram\n",
    "\tEMPLOYEE {\n",
    "\t\tstring name\n",
    "\t\tstring buyerType\n",
    "\t\tstring employeeID\n",
    "\t\tstring sector\n",
    "\t}\n",
    "\tREGION {\n",
    "\t\tstring region\n",
    "\t\tstring descr\n",
    "\t\tstring area\n",
    "\t\tstring gdp_index\t\n",
    "\t}\n",
    "\tCOSTCENTER {\n",
    "\t\tstring dept\n",
    "\t\tstring shortdesc\n",
    "\t\tstring desc\n",
    "\t\tstring manager\n",
    "\t\tstring region\n",
    "\t}\n",
    "```"
   ]
  },
  {
   "cell_type": "code",
   "execution_count": null,
   "metadata": {
    "vscode": {
     "languageId": "plaintext"
    }
   },
   "outputs": [],
   "source": []
  }
 ],
 "metadata": {
  "language_info": {
   "name": "python"
  }
 },
 "nbformat": 4,
 "nbformat_minor": 2
}
