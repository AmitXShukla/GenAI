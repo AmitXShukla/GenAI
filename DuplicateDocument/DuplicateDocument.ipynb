{
 "cells": [
  {
   "cell_type": "markdown",
   "metadata": {},
   "source": [
    "# build a 100% local hosted, Duplicate Document Finder\n",
    "using Faiss: A Facebook AI Similarity Search (Faiss) library for efficient similarity search\n",
    "\n",
    "## use case\n",
    "- Duplicate Invoice, Expense, Voucher, Receipt Finder\n",
    "    - Fraud Detection\n",
    "    - Automate Document sorting, de-duplication\n",
    "    - Automate data reconciliation\n",
    "    - Audit 3 way document match to find exceptions (request, pay, voucher, invoice, receipt)"
   ]
  },
  {
   "cell_type": "markdown",
   "metadata": {},
   "source": [
    "## Objective\n",
    "In this notebook, we'll learn basic of FAISS fundamentals and using FAISS as vector search for a huge dataset and in later section, we'll use a real life production data set to implement vector search.\n",
    "\n",
    "Faiss is a library for efficient similarity search and clustering of dense vectors.\n",
    "\n",
    "Meta claim: We've built nearest-neighbor search implementations for billion-scale data sets that are some 8.5x faster than the previous reported state-of-the-art, along with the fastest k-selection algorithm on the GPU known in the literature."
   ]
  },
  {
   "cell_type": "markdown",
   "metadata": {},
   "source": [
    "## Process flow"
   ]
  },
  {
   "cell_type": "markdown",
   "metadata": {},
   "source": [
    "```mermaid\n",
    "stateDiagram-v2\n",
    "        direction LRstateDiagram-v2\n",
    "        [*] --> User_Query\n",
    "        User_Query --> Conversation_AI_Agent\n",
    "        Conversation_AI_Agent --> SQL_DB\n",
    "        SQL_DB --> Conversation_AI_Agent\n",
    "        Conversation_AI_Agent --> RAG_VectorDB\n",
    "        RAG_VectorDB --> Conversation_AI_Agent\n",
    "        [*] --> File_Drop\n",
    "        File_Drop --> PyPDF\n",
    "        File_Drop --> Tesseract\n",
    "        File_Drop --> AzureDocementService\n",
    "        File_Drop --> OracleVisionAI\n",
    "        File_Drop --> OtherVisionAPI\n",
    "        PyPDF --> QC\n",
    "        Tesseract --> QC\n",
    "        AzureDocementService --> QC\n",
    "        OracleVisionAI --> QC\n",
    "        OtherVisionAPI --> QC\n",
    "        QC --> QC_AI_Agent\n",
    "        QC_AI_Agent --> QC\n",
    "        QC_AI_Agent --> RAG_VectorDB\n",
    "        QC_AI_Agent --> SQL_DB\n",
    "        QC_AI_Agent --> [*]\n",
    "        Conversation_AI_Agent --> [*]\n",
    "\n",
    "%% Define classes for coloring\n",
    "    classDef red fill:#ff8,stroke:#333,stroke-width:2px;\n",
    "    classDef green fill:#8fa,stroke:#333,stroke-width:2px;\n",
    "    classDef blue fill:#8af,stroke:#333,stroke-width:2px;\n",
    "    classDef orange fill:#f92,stroke:#333,stroke-width:2px;\n",
    "    classDef brown fill:#e6f,stroke:#333,stroke-width:2px;\n",
    "    classDef neil fill:#1ff,stroke:#333,stroke-width:2px;\n",
    "\n",
    "    %% Apply classes to states\n",
    "    class User_Query green\n",
    "    class Conversation_AI_Agent orange\n",
    "    class social green\n",
    "    class Tesseract brown\n",
    "    class SQL_DB blue\n",
    "    class File_Drop green\n",
    "    class RAG_VectorDB blue\n",
    "    class PyPDF brown\n",
    "    class QC_AI_Agent orange\n",
    "    class QC red\n",
    "    class AzureDocementService brown\n",
    "    class OracleVisionAI brown\n",
    "    class OtherVisionAPI brown\n",
    "```"
   ]
  },
  {
   "cell_type": "markdown",
   "metadata": {},
   "source": [
    "# Code"
   ]
  },
  {
   "cell_type": "code",
   "execution_count": null,
   "metadata": {},
   "outputs": [],
   "source": [
    "# !pip install faiss-cpu"
   ]
  },
  {
   "cell_type": "code",
   "execution_count": 2,
   "metadata": {},
   "outputs": [],
   "source": [
    "import numpy as np\n",
    "from PIL import Image\n",
    "import matplotlib.pyplot as plt"
   ]
  },
  {
   "cell_type": "markdown",
   "metadata": {},
   "source": [
    "# create an app to handle file upload and dynamically search FAISS Index\n",
    "\n",
    "1. create a chatbot like app\n",
    "2. handle upload image (crop and resize to right dimensionality)\n",
    "3. query search and result\n",
    "4. display result back"
   ]
  },
  {
   "cell_type": "markdown",
   "metadata": {},
   "source": [
    "# Next Steps : building a Pro Enterprise app\n",
    "\n",
    "- Faster search - index tuning\n",
    "- running on GPUs\n",
    "- arranging data to optimize queries"
   ]
  }
 ],
 "metadata": {
  "kernelspec": {
   "display_name": "GenAI",
   "language": "python",
   "name": "python3"
  },
  "language_info": {
   "codemirror_mode": {
    "name": "ipython",
    "version": 3
   },
   "file_extension": ".py",
   "mimetype": "text/x-python",
   "name": "python",
   "nbconvert_exporter": "python",
   "pygments_lexer": "ipython3",
   "version": "3.12.7"
  }
 },
 "nbformat": 4,
 "nbformat_minor": 2
}
