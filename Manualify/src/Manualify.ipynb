{
 "cells": [
  {
   "cell_type": "markdown",
   "metadata": {},
   "source": [
    "## Manualify.ai\n",
    "---\n",
    "`Claude GenAI App - Manualify: A Smart AI for Answering Tutorial Questions from RAG, LLM, docs`\n",
    "\n",
    "`Manualify.ai:` A Smart AI for Answering Questions from Tutorials: Harnessing the Power of RAG LLMs and Documents.\n",
    "\n",
    "The objective is to develop an AI capable of answering questions by harnessing information from websites, tutorials, ServiceNow, customer support resources, and transactional databases.\n",
    "\n",
    "**Author:** Amit Shukla\n",
    "\n",
    "**Connect**\n",
    "Author: Amit Shukla\n",
    "\n",
    "[https://github.com/AmitXShukla](https://github.com/AmitXShukla)\n",
    "\n",
    "[https://x.com/ashuklax](https://x.com/AShuklaX)\n",
    "\n",
    "[https://youtube.com/@Amit.Shukla](https://youtube.com/@Amit.Shukla)\n",
    "\n",
    "---\n",
    "\n",
    "In this blog, we will create an online manual for Python, Oracle or Julia Lang, Angular and Flutter.\n",
    "\n",
    "**Step 0:** getting started\n",
    "\n",
    "**Step 1:** build a simple web crawler - Scrapify\n",
    "    \n",
    "In this section, we will\n",
    "\n",
    "1. query LLM API and build a Q&A from LLM.\n",
    "2. read data from PDF files and then query LLM.\n",
    "3. Scape an online page and query LLM.\n",
    "4. automated crawling: build a simple `web crawler` to gather text from the website. The crawler will collect links from the given domain and then visit each link to download the associated text. \n",
    "5. explore various options for downloading data from Single Page Applications (SPAs) using web scraping techniques and libraries such as BeautifulSoup, Scrapy, and Selenium.\n",
    "6. Image data extraction:\n",
    "look into different methods for extracting data from images, including Optical Character Recognition (OCR) techniques and libraries such as Tesseract.\n",
    "7. read data from PDF files: Additionally, we will examine ways to read and extract data from PDF files using libraries such as PyPDF2 and PDFMiner.\n",
    "8. Querying Language Models (LLMs):\n",
    "Once we have extracted the data, we will then query the Language Models (LLMs) with the extracted data to generate insights and answers.\n",
    "\n",
    "**Step 2:** We will convert all PDFs to csv and simply build a Q&A prompt using Gen AI (Claude) with entire file content at once.\n",
    "\n",
    "**Step 3:** Creating Embedding from csvs and other documents to create a Vector database.\n",
    "\n",
    "**Step 4:** Using RAG and LLMs to query manual documments.\n",
    "\n",
    "**Step 5:** Using SQL queries with Functional calling.\n",
    "\n",
    "**Step 6:** creating an online app and hosting"
   ]
  },
  {
   "cell_type": "markdown",
   "metadata": {},
   "source": [
    "## Steps to create Manualify\n",
    "\n",
    "---\n",
    "<!-- gitGraph TB:\n",
    "    commit id: \"query\" tag: \"build prompt\"\n",
    "    commit id: \"1\"\n",
    "    branch Query\n",
    "    commit id: \"2\" tag: \"LLM\"\n",
    "    branch PDFQuery\n",
    "    commit id: \"3\" tag: \"send PDF as sontext\"\n",
    "    branch OnlineScapping\n",
    "    commit id: \"4\" tag: \"online content as context\"\n",
    "    branch AutoScapping\n",
    "    commit id: \"5\" tag: \"auto online download\"\n",
    "    branch EmbeddingsVectorDB\n",
    "    commit id: \"6\" tag: \"embeddings Vector DB\"\n",
    "    branch RAG\n",
    "    commit id: \"7\" tag: \"query RAG\"\n",
    "    branch SQLQueries\n",
    "    commit id: \"8\" tag: \"query RDBMs\"\n",
    "    branch FunctionCalling\n",
    "    commit id: \"9\" tag: \"Function Calling\" -->\n",
    "\n",
    "`Steps to create Manualify`\n",
    "\n",
    "![Process Flow](../images/processflow.png)\n",
    "\n",
    "## Process Flow diagram\n",
    "---\n",
    "\n",
    "`Brief overview of the RAG stack : Voyage AI`\n",
    "\n",
    "![Brief overview of the RAG stack : Voyage AI](https://files.readme.io/ec25408-RAG-white.png)\n",
    "\n",
    "The diagram below illustrates the high-level architecture and data flow of this project. Please note that **not** all of these features are included in the Community version, and the Pro/Custom version may vary significantly from this diagram based on individual implementation.\n",
    "\n",
    "As depicted in the diagram, this basic web crawler accepts a URL as input and navigates through all linked sub-pages, collecting text from the specific website one page at a time.\n",
    "Our current goal is straightforward: we aim to extract relevant text information, metadata and other useful details using this crawler. In subsequent blogs, we plan to construct an embedding vector data store or a vector database composed of embeddings derived from the text of the website and other available documentation and knowledge bases.\n",
    "\n",
    "Now let's proceed to construct our simple web crawler that fetches text and pertinent information from all pages of a given website.\n",
    "\n",
    "![Process Flow](../images/process_flow.png)"
   ]
  },
  {
   "cell_type": "markdown",
   "metadata": {},
   "source": [
    "## Step 0: Getting Started\n",
    "---\n",
    "Let's first set up our Python working environment. While we can also use Node.js, please note that for the current version, we will be using Python for development. \n",
    "\n",
    "Please signup and get your own API Keys.\n",
    "- [ANTHROPIC_API_KEY](https://docs.anthropic.com/claude/reference/getting-started-with-the-api)\n",
    "- [YOUR_PINECONE_API_KEY](https://docs.pinecone.io/docs/quickstart)\n",
    "- [VOYAGE_API_KEY](https://docs.voyageai.com/docs/api-key-and-installation)\n",
    "\n",
    "Later in the development process, I plan to use Node.js for deployment. While both Python and Node.js are simple and viable options for development and deployment, I find Node.js deployment to be easier than Python."
   ]
  },
  {
   "cell_type": "code",
   "execution_count": 4,
   "metadata": {},
   "outputs": [],
   "source": [
    "##########################################################################\n",
    "## Although not mandatory, \n",
    "## it is highly recommended to set up a new Python working environment. ##\n",
    "##########################################################################\n",
    "## To create a virtual environment called `GenAI`, follow the steps:\n",
    "\n",
    "## On Windows: \n",
    "# !python -m venv GenAI GenAI\\Scripts\\activate\n",
    "\n",
    "## On macOS or Linux: \n",
    "# !python3 -m venv GenAI source GenAI/bin/activate\n",
    "\n",
    "## Then, install required packages using pip: \n",
    "# !pip install pandas numpy matplotlib seaborn tqdm beautifulsoup4\n",
    "\n",
    "## install only in case if you are using OpenAI\n",
    "# !pip install openai\n",
    "\n",
    "## install only in case if you are using Claude\n",
    "# !pip install anthropic datasets pinecone-client voyageai\n",
    "\n",
    "## in case if you fork this repo, just run\n",
    "# !pip install -r requirements.txt\n",
    "\n",
    "# !pip install --upgrade pip\n",
    "# !pip freeze > requirements.txt"
   ]
  },
  {
   "cell_type": "code",
   "execution_count": 1,
   "metadata": {},
   "outputs": [
    {
     "name": "stdout",
     "output_type": "stream",
     "text": [
      "Intel64 Family 6 Model 141 Stepping 1, GenuineIntel\n",
      "All API Keys are in place.\n"
     ]
    }
   ],
   "source": [
    "import platform;\n",
    "print(platform.processor())\n",
    "\n",
    "import os\n",
    "\n",
    "####################################################\n",
    "## if you are using OpenAI LLMs\n",
    "## setup windows environment variable OPENAI_API_KEY\n",
    "####################################################\n",
    "# import openai\n",
    "# openai.api_key = os.getenv(\"OPENAI_API_KEY\")\n",
    "\n",
    "####################################################\n",
    "## if you are using Anthropic Claude LLMs\n",
    "## sign up for API keys & setup windows environment variable \n",
    "## ANTHROPIC_API_KEY, PINECONE_API_KEY & VOYAGE_API_KEY\n",
    "####################################################\n",
    "# import anthropic\n",
    "\n",
    "if (not os.environ.get(\"ANTHROPIC_API_KEY\")) | (not os.environ.get(\"PINECONE_API_KEY\")) | (not os.environ.get(\"VOYAGE_API_KEY\")):\n",
    "    print(\"One of the api key is missing.\")\n",
    "else:\n",
    "    print(\"All API Keys are in place.\")"
   ]
  },
  {
   "cell_type": "markdown",
   "metadata": {},
   "source": [
    "## Step 1: build a simple web crawler - Scrapify\n",
    "---"
   ]
  },
  {
   "cell_type": "markdown",
   "metadata": {},
   "source": [
    "### Step 1.1: query LLM API and build Q&A system\n",
    "\n",
    "In this step, While the LLM's responses currently rely solely on its knowledge, we aim to make the most of the LLM by inputting provided data as input, enabling it to learn and use this data to answer questions more accurately."
   ]
  },
  {
   "cell_type": "code",
   "execution_count": null,
   "metadata": {},
   "outputs": [],
   "source": [
    "import anthropic\n",
    "\n",
    "client = anthropic.Anthropic(\n",
    "    # defaults to os.environ.get(\"ANTHROPIC_API_KEY\")\n",
    "    # you don't need to pass api_key explicitly\n",
    "    api_key=os.environ.get(\"ANTHROPIC_API_KEY\")\n",
    ")\n",
    "\n",
    "message = client.messages.create(\n",
    "    model=\"claude-3-opus-20240229\",\n",
    "    max_tokens=1000,\n",
    "    temperature=0.0,\n",
    "    system=\"Respond only in Yoda-speak.\",\n",
    "    messages=[\n",
    "        {\"role\": \"user\", \"content\": \"how are args and keyword arguments defined in python?\"}\n",
    "    ]\n",
    ")\n",
    "\n",
    "print(message.content)"
   ]
  },
  {
   "cell_type": "markdown",
   "metadata": {},
   "source": [
    "### Step 1.2: read data from PDF files and then query LLM\n",
    "\n",
    "As demonstrated in the previous steps, manual data input is currently required to serve as input and generate answers. In this case, we will use a PDF such as manual or tutorial as reference to query."
   ]
  },
  {
   "cell_type": "code",
   "execution_count": null,
   "metadata": {},
   "outputs": [],
   "source": [
    "# !pip install pypdf\n",
    "# !curl -O https://github.com/AmitXShukla/RPA/blob/main/SampleData/The%20Ultimate%20Guide%20to%20Data%20Wrangling%20with%20Python%20-%20Rust%20Polars%20Data%20Frame.pdf"
   ]
  },
  {
   "cell_type": "code",
   "execution_count": null,
   "metadata": {},
   "outputs": [],
   "source": [
    "from pypdf import PdfReader\n",
    "\n",
    "reader = PdfReader(\"../downloads/Python - understanding functions.pdf\")\n",
    "number_of_pages = len(reader.pages)\n",
    "text = ''.join([page.extract_text() for page in reader.pages])\n",
    "print(text[:2155])\n",
    "\n",
    "from anthropic import Anthropic\n",
    "client = Anthropic()\n",
    "MODEL_NAME = \"claude-3-opus-20240229\"\n",
    "\n",
    "def get_completion(client, prompt):\n",
    "    return client.messages.create(\n",
    "        model=MODEL_NAME,\n",
    "        max_tokens=2048,\n",
    "        messages=[{\n",
    "            \"role\": 'user', \"content\":  prompt\n",
    "        }]\n",
    "    ).content[0].text\n",
    "\n",
    "# f\"\"\"Here is an academic paper: <paper>{text}</paper>\n",
    "\n",
    "completion = get_completion(client,\n",
    "    f\"\"\"Here is a local guide: <guide>{text}</guide>    \n",
    "\n",
    "Please do the following:\n",
    "1. Summarize the abstract about Python args \n",
    "and keyword args understanding at a kindergarten reading level. (In <kindergarten_abstract> tags.)\n",
    "2. Write the Methods section as a recipe from the Moosewood Cookbook. (In <moosewood_methods> tags.)\n",
    "\"\"\"\n",
    ")\n",
    "print(completion)"
   ]
  },
  {
   "cell_type": "markdown",
   "metadata": {},
   "source": [
    "### Step 1.3: Scrape an online page and query LLM\n",
    "\n",
    "In this step, we will construct a basic web crawler that will download text from a specified URL, using this downloaded text as input. By automating this process, we aim to eliminate the need for manual data input."
   ]
  },
  {
   "cell_type": "code",
   "execution_count": null,
   "metadata": {},
   "outputs": [],
   "source": [
    "# !pip install anthropic requests beautifulsoup4"
   ]
  },
  {
   "cell_type": "code",
   "execution_count": 3,
   "metadata": {},
   "outputs": [],
   "source": [
    "USER_QUESTION=\"how are args and keyword arguments defined in python?\""
   ]
  },
  {
   "cell_type": "code",
   "execution_count": 4,
   "metadata": {},
   "outputs": [],
   "source": [
    "GENERATE_QUERIES=f\"\"\"\\n\\nHuman: You are an expert at Python programmer. \n",
    "Your proficiency in Python programming is exceptional.\n",
    "You have the ability to craft code, author blogs, and create tutorials. \n",
    "Typically, when a question is posed to you, your response is comprehensive and often includes illustrative code examples.\n",
    "\n",
    "User question: {USER_QUESTION}\n",
    "\n",
    "Format: {{\"queries\": [\"query_1\", \"query_2\", \"query_3\"]}}\\n\\nAssistant: {{\"\"\""
   ]
  },
  {
   "cell_type": "code",
   "execution_count": null,
   "metadata": {},
   "outputs": [],
   "source": [
    "import anthropic\n",
    "\n",
    "client = anthropic.Anthropic(api_key=os.environ.get(\"ANTHROPIC_API_KEY\"))\n",
    "\n",
    "# define generic function to query LLM\n",
    "def get_completion(prompt: str):\n",
    "    message = client.completions.create(\n",
    "        model='claude-2.1',\n",
    "        max_tokens_to_sample=1024,\n",
    "        temperature=.5,\n",
    "        prompt=prompt\n",
    "    )\n",
    "    return message.completion\n",
    "\n",
    "# query LLM based on fixed text\n",
    "queries_json = \"{\" + get_completion(GENERATE_QUERIES)\n",
    "print(queries_json)"
   ]
  },
  {
   "cell_type": "code",
   "execution_count": null,
   "metadata": {},
   "outputs": [],
   "source": [
    "# import requests\n",
    "# from time import sleep\n",
    "# import json\n",
    "\n",
    "# def get_search_results(search_query : str):\n",
    "#     headers = {\"Accept\": \"application/json\", \"X-Subscription-Token\": BRAVE_API_KEY}\n",
    "#     response = requests.get(\n",
    "#         \"https://api.search.brave.com/res/v1/web/search\",\n",
    "#         params={\"q\": search_query,\n",
    "#                 \"count\": 3 # Max number of results to return\n",
    "#                 },\n",
    "#         headers=headers,\n",
    "#         timeout=60\n",
    "#     )\n",
    "#     if not response.ok:\n",
    "#         raise Exception(f\"HTTP error {response.status_code}\")\n",
    "#     sleep(1) # avoid Brave rate limit\n",
    "#     return response.json().get(\"web\", {}).get(\"results\")\n",
    "# queries = json.loads(queries_json)[\"queries\"]\n",
    "\n",
    "# urls_seen = set()\n",
    "# web_search_results = []\n",
    "# for query in queries:\n",
    "#     search_results = get_search_results(query)\n",
    "#     for result in search_results:\n",
    "#         url = result.get(\"url\")\n",
    "#         if not url or url in urls_seen:\n",
    "#             continue\n",
    "        \n",
    "#         urls_seen.add(url)\n",
    "#         web_search_results.append(result)\n",
    "        \n",
    "# print(len(web_search_results))"
   ]
  },
  {
   "cell_type": "code",
   "execution_count": null,
   "metadata": {},
   "outputs": [],
   "source": [
    "# for i, item in enumerate(web_search_results):\n",
    "#     print(f\"Search result {i+1}:\")\n",
    "#     print(item.get(\"title\"))\n",
    "#     print(item.get(\"url\"))"
   ]
  },
  {
   "cell_type": "code",
   "execution_count": 6,
   "metadata": {},
   "outputs": [],
   "source": [
    "import requests\n",
    "from bs4 import BeautifulSoup\n",
    "\n",
    "url = \"https://docs.python.org/3/tutorial/controlflow.html#more-on-defining-functions\"\n",
    "\n",
    "def get_page_content(url : str) -> str:\n",
    "    html = requests.get(url).text\n",
    "    soup = BeautifulSoup(html, 'html.parser')\n",
    "    return soup.get_text(strip=True, separator='\\n')"
   ]
  },
  {
   "cell_type": "code",
   "execution_count": null,
   "metadata": {},
   "outputs": [],
   "source": [
    "# formatted_search_results = \"\\n\".join(\n",
    "#         [\n",
    "#             f'<item index=\"{i+1}\">\\n<source>{result.get(\"url\")}</source>\\n<page_content>\\n{get_page_content(result.get(\"url\"))}\\n</page_content>\\n</item>'\n",
    "#             for i, result in enumerate(web_search_results)\n",
    "#         ]\n",
    "#     )\n",
    "# print(formatted_search_results)\n",
    "\n",
    "# query LLM based on text from a webpage\n",
    "formatted_search_results = get_page_content(url)\n",
    "print(formatted_search_results)"
   ]
  },
  {
   "cell_type": "code",
   "execution_count": null,
   "metadata": {},
   "outputs": [],
   "source": [
    "# inject search results into prompt\n",
    "\n",
    "# ANSWER_QUESTION = f\"\"\"\\n\\nHuman: I have provided you with the following search results:\n",
    "# {formatted_search_results}\n",
    "\n",
    "# Please answer the user's question using only information from the search results. Reference the relevant search result urls within your answer as links. Keep your answer concise.\n",
    "\n",
    "# User's question: {USER_QUESTION} \\n\\nAssistant:\n",
    "# \"\"\"\n",
    "# print(ANSWER_QUESTION)\n",
    "\n",
    "ANSWER_QUESTION = f\"\"\"\\n\\nHuman: I have provided you with the following search results:\n",
    "{formatted_search_results}\n",
    "\n",
    "Please answer the user's question using only information from the search results. Reference the relevant search result urls within your answer as links. Keep your answer concise.\n",
    "\n",
    "User's question: {USER_QUESTION} \\n\\nAssistant:\n",
    "\"\"\"\n",
    "print(ANSWER_QUESTION)"
   ]
  },
  {
   "cell_type": "code",
   "execution_count": null,
   "metadata": {},
   "outputs": [],
   "source": [
    "print(get_completion(ANSWER_QUESTION))"
   ]
  },
  {
   "cell_type": "markdown",
   "metadata": {},
   "source": [
    "### Step 1.4: Scrapify: build a simple `web crawler`\n",
    "\n",
    "Now, since We can build and automate text retreival from one HTML page, we will build a simple `web crawler` to gather text from the website. The crawler will collect links from the given domain and then visit each link to download the associated text."
   ]
  },
  {
   "cell_type": "code",
   "execution_count": null,
   "metadata": {},
   "outputs": [],
   "source": [
    "#############################################################################\n",
    "# credit: majority of this code is reference through OpenAI documentation\n",
    "# however, it's not necessary to use OpenAI API\n",
    "# like in this blog, we will Claude instead\n",
    "# https://platform.openai.com/docs/tutorials/web-qa-embeddings\n",
    "#############################################################################\n",
    "\n",
    "# install dependencies\n",
    "# !pip install requests pandas beautifulsoup4 tiktoken openai\n",
    "\n",
    "# some of embedding packages were not working so tried downgrading openai version\n",
    "# from openai.embeddings_utils import distances_from_embeddings, cosine_similarity\n",
    "# !pip install openai==0.27.7\n",
    "\n",
    "# !pip show openai"
   ]
  },
  {
   "cell_type": "code",
   "execution_count": 7,
   "metadata": {},
   "outputs": [],
   "source": [
    "# import all packages\n",
    "import requests\n",
    "import re\n",
    "import urllib.request\n",
    "from bs4 import BeautifulSoup\n",
    "from collections import deque\n",
    "from html.parser import HTMLParser\n",
    "from urllib.parse import urlparse\n",
    "import os\n",
    "import pandas as pd\n",
    "# import tiktoken\n",
    "# import openai\n",
    "import numpy as np\n",
    "# from openai.embeddings_utils import distances_from_embeddings, cosine_similarity\n",
    "from ast import literal_eval"
   ]
  },
  {
   "cell_type": "code",
   "execution_count": 14,
   "metadata": {},
   "outputs": [],
   "source": [
    "# Regex pattern to match a URL\n",
    "HTTP_URL_PATTERN = r'^http[s]{0,1}://.+$'\n",
    "\n",
    "# Regex pattern to match a Phone number\n",
    "PHONE_PATTERN = r'^http[s]{0,1}://.+$'\n",
    "\n",
    "# Regex pattern to match an email\n",
    "EMAIL_PATTERN = r'^http[s]{0,1}://.+$'\n",
    "\n",
    "# Define OpenAI api_key\n",
    "# openai.api_key = '<Your API Key>'\n",
    "\n",
    "# Define root domain to crawl\n",
    "domain = \"angular.io\"\n",
    "full_url = \"https://angular.io/tutorial/first-app/first-app-lesson-08\"\n",
    "\n",
    "# Create a class to parse the HTML and get the hyperlinks\n",
    "class HyperlinkParser(HTMLParser):\n",
    "    def __init__(self):\n",
    "        super().__init__()\n",
    "        # Create a list to store the hyperlinks\n",
    "        self.hyperlinks = []\n",
    "\n",
    "    # Override the HTMLParser's handle_starttag method to get the hyperlinks\n",
    "    def handle_starttag(self, tag, attrs):\n",
    "        attrs = dict(attrs)\n",
    "\n",
    "        # If the tag is an anchor tag and it has an href attribute, add the href attribute to the list of hyperlinks\n",
    "        if tag == \"a\" and \"href\" in attrs:\n",
    "            self.hyperlinks.append(attrs[\"href\"])"
   ]
  },
  {
   "cell_type": "code",
   "execution_count": 9,
   "metadata": {},
   "outputs": [],
   "source": [
    "# Function to get the hyperlinks from a URL\n",
    "def get_hyperlinks(url):\n",
    "    \n",
    "    # Try to open the URL and read the HTML\n",
    "    try:\n",
    "        # Open the URL and read the HTML\n",
    "        with urllib.request.urlopen(url) as response:\n",
    "\n",
    "            # If the response is not HTML, return an empty list\n",
    "            if not response.info().get('Content-Type').startswith(\"text/html\"):\n",
    "                return []\n",
    "            \n",
    "            # Decode the HTML\n",
    "            html = response.read().decode('utf-8')\n",
    "    except Exception as e:\n",
    "        print(e)\n",
    "        return []\n",
    "\n",
    "    # Create the HTML Parser and then Parse the HTML to get hyperlinks\n",
    "    parser = HyperlinkParser()\n",
    "    parser.feed(html)\n",
    "\n",
    "    return parser.hyperlinks"
   ]
  },
  {
   "cell_type": "code",
   "execution_count": 10,
   "metadata": {},
   "outputs": [],
   "source": [
    "# Function to get the hyperlinks from a URL that are within the same domain\n",
    "def get_domain_hyperlinks(local_domain, url):\n",
    "    clean_links = []\n",
    "    for link in set(get_hyperlinks(url)):\n",
    "        clean_link = None\n",
    "\n",
    "        # If the link is a URL, check if it is within the same domain\n",
    "        if re.search(HTTP_URL_PATTERN, link):\n",
    "            # Parse the URL and check if the domain is the same\n",
    "            url_obj = urlparse(link)\n",
    "            if url_obj.netloc == local_domain:\n",
    "                clean_link = link\n",
    "\n",
    "        # If the link is not a URL, check if it is a relative link\n",
    "        else:\n",
    "            if link.startswith(\"/\"):\n",
    "                link = link[1:]\n",
    "            elif (\n",
    "                link.startswith(\"#\")\n",
    "                or link.startswith(\"mailto:\")\n",
    "                or link.startswith(\"tel:\")\n",
    "            ):\n",
    "                continue\n",
    "            clean_link = \"https://\" + local_domain + \"/\" + link\n",
    "\n",
    "        if clean_link is not None:\n",
    "            if clean_link.endswith(\"/\"):\n",
    "                clean_link = clean_link[:-1]\n",
    "            clean_links.append(clean_link)\n",
    "\n",
    "    # Return the list of hyperlinks that are within the same domain\n",
    "    return list(set(clean_links))"
   ]
  },
  {
   "cell_type": "code",
   "execution_count": 16,
   "metadata": {},
   "outputs": [
    {
     "name": "stdout",
     "output_type": "stream",
     "text": [
      "https://angular.io/tutorial/first-app/first-app-lesson-08\n"
     ]
    }
   ],
   "source": [
    "def crawl(url):\n",
    "    # Parse the URL and get the domain\n",
    "    local_domain = urlparse(url).netloc\n",
    "\n",
    "    # Create a queue to store the URLs to crawl\n",
    "    queue = deque([url])\n",
    "\n",
    "    # Create a set to store the URLs that have already been seen (no duplicates)\n",
    "    seen = set([url])\n",
    "\n",
    "    # Create a directory to store the text files\n",
    "    if not os.path.exists(\"text/\"):\n",
    "            os.mkdir(\"text/\")\n",
    "\n",
    "    if not os.path.exists(\"text/\"+local_domain+\"/\"):\n",
    "            os.mkdir(\"text/\" + local_domain + \"/\")\n",
    "\n",
    "    # Create a directory to store the csv files\n",
    "    if not os.path.exists(\"processed\"):\n",
    "            os.mkdir(\"processed\")\n",
    "\n",
    "    # While the queue is not empty, continue crawling\n",
    "    while queue:\n",
    "\n",
    "        # Get the next URL from the queue\n",
    "        url = queue.pop()\n",
    "        print(url) # for debugging and to see the progress\n",
    "        \n",
    "        # Try extracting the text from the link, if failed proceed with the next item in the queue\n",
    "        try:\n",
    "            # Save text from the url to a <url>.txt file\n",
    "            with open('text/'+local_domain+'/'+url[8:].replace(\"/\", \"_\") + \".txt\", \"w\", encoding=\"UTF-8\") as f:\n",
    "\n",
    "                # Get the text from the URL using BeautifulSoup\n",
    "                soup = BeautifulSoup(requests.get(url).text, \"html.parser\")\n",
    "\n",
    "                # Get the text but remove the tags\n",
    "                text = soup.get_text()\n",
    "\n",
    "                # If the crawler gets to a page that requires JavaScript, it will stop the crawl\n",
    "                if (\"You need to enable JavaScript to run this app.\" in text):\n",
    "                    print(\"Unable to parse page \" + url + \" due to JavaScript being required\")\n",
    "            \n",
    "                # Otherwise, write the text to the file in the text directory\n",
    "                f.write(text)\n",
    "        except Exception as e:\n",
    "            print(\"Unable to parse page \" + url)\n",
    "\n",
    "        # Get the hyperlinks from the URL and add them to the queue\n",
    "        for link in get_domain_hyperlinks(local_domain, url):\n",
    "            if link not in seen:\n",
    "                queue.append(link)\n",
    "                seen.add(link)\n",
    "\n",
    "crawl(full_url)"
   ]
  },
  {
   "cell_type": "markdown",
   "metadata": {},
   "source": [
    "### Step 1.5: Scrapify: Crawling SPAs as screenshots\n",
    "\n",
    "Although previous steps works fine for static content website, it often fails to scrape data from dynamic and single page app (SPAs) webpages. In this case, we will convert these pages to screenshot.\n",
    "\n",
    "First step is to [download chrome web-driver](https://chromedriver.chromium.org/downloads). Please make sure, web-driver version matches with your chrome version.\n",
    "\n",
    "(Open Chrome -> Help -> About chrome -> check version).\n",
    "\n",
    "download appropriate version depending on machine OS and unzip/extract to a local folder."
   ]
  },
  {
   "cell_type": "code",
   "execution_count": null,
   "metadata": {},
   "outputs": [],
   "source": [
    "# !pip install Pillow\n",
    "# !pip install selenium"
   ]
  },
  {
   "cell_type": "code",
   "execution_count": null,
   "metadata": {},
   "outputs": [],
   "source": [
    "from selenium import webdriver\n",
    "from PIL import Image\n",
    "\n",
    "# Define the URL of the web page we want to screenshot\n",
    "\n",
    "url = 'https://finance.yahoo.com/quote/AAPL?p=AAPL&.tsrc=fin-srch'\n",
    "\n",
    "# Define the path to the webdriver executable (e.g., chromedriver.exe)\n",
    "\n",
    "# webdriver_path = '/path/to/webdriver/executable'\n",
    "webdriver_path = 'C:\\amit.la\\WIP\\RPA\\downloads\\chromedriver.exe'\n",
    "\n",
    "# Set up the webdriver\n",
    "\n",
    "options = webdriver.ChromeOptions()\n",
    "options.headless = True # Run the browser in headless mode to prevent a window from popping up\n",
    "driver = webdriver.Chrome(executable_path=webdriver_path, options=options)\n",
    "\n",
    "# Load the web page\n",
    "\n",
    "driver.get(url)\n",
    "\n",
    "# Take a screenshot of the entire page\n",
    "\n",
    "# screenshot = driver.find_element_by_tag_name('body').screenshot_as_png\n",
    "screenshot = driver.save_screenshot('../downloads/screenshot.png')\n",
    "\n",
    "# Close the webdriver\n",
    "\n",
    "driver.quit()\n",
    "\n",
    "# Save the screenshot to a file\n",
    "\n",
    "# with open('../SampleData/screenshot.png', 'wb') as file:\n",
    "#     file.write(screenshot)\n",
    "\n",
    "# Open the screenshot with Pillow to display it (optional)\n",
    "\n",
    "img = Image.open('../downloads/screenshot.png')\n",
    "img.show()"
   ]
  },
  {
   "cell_type": "code",
   "execution_count": null,
   "metadata": {},
   "outputs": [],
   "source": [
    "import os\n",
    "urls = {\n",
    "        \"AAPL.png\": \"https://finance.yahoo.com/quote/AAPL?p=AAPL&.tsrc=fin-srch\",\n",
    "        \"ORCL.png\": \"https://finance.yahoo.com/quote/ORCL?p=ORCL&.tsrc=fin-srch\",\n",
    "        \"TSLA.png\": \"https://finance.yahoo.com/quote/TSLA?p=TSLA&.tsrc=fin-srch\",\n",
    "        \"GOOG.png\": \"https://finance.yahoo.com/quote/GOOG?p=GOOG&.tsrc=fin-srch\",\n",
    "        \"MSFT.png\": \"https://finance.yahoo.com/quote/MSFT?p=MSFT&.tsrc=fin-srch\"\n",
    "    }"
   ]
  },
  {
   "cell_type": "code",
   "execution_count": null,
   "metadata": {},
   "outputs": [],
   "source": [
    "def takeScreenshots(outputFileName, url):\n",
    "    driver.get(url)\n",
    "    driver.save_screenshot(os.path.join('../downloads/',outputFileName))"
   ]
  },
  {
   "cell_type": "code",
   "execution_count": null,
   "metadata": {},
   "outputs": [],
   "source": [
    "for key,value in urls.items():\n",
    "    takeScreenshots(key, value)"
   ]
  },
  {
   "cell_type": "markdown",
   "metadata": {},
   "source": [
    "### Step 1.6: Scrapify: read Image and query LLM\n",
    "\n",
    "In this step, we will finally learn to read data from images and build our knowledge base.\n",
    "\n",
    "To read text from images using Tesseract OCR in Python, we can use the pytesseract library, which is a Python wrapper for the Tesseract OCR engine. Here's an example code snippet:\n",
    "\n",
    "[download tesseract here](https://tesseract-ocr.github.io/tessdoc/#binaries)\n",
    "\n",
    "`Note that Tesseract OCR is not perfect and may not be able to extract text accurately from all images.`"
   ]
  },
  {
   "cell_type": "code",
   "execution_count": null,
   "metadata": {},
   "outputs": [],
   "source": [
    "# py -m pip install pytesseract\n",
    "# py -m pip install PIL"
   ]
  },
  {
   "cell_type": "code",
   "execution_count": null,
   "metadata": {},
   "outputs": [],
   "source": [
    "from PIL import Image\n",
    "img = Image.open('../downloads/AAPL.png')\n",
    "img.show()\n",
    "\n",
    "# make sure, you have tesseract included in your environment path\n",
    "\n",
    "import os\n",
    "os.getenv(\"tesseract\")"
   ]
  },
  {
   "cell_type": "code",
   "execution_count": null,
   "metadata": {},
   "outputs": [],
   "source": [
    "import pytesseract\n",
    "from PIL import Image\n",
    "\n",
    "##############################################################################\n",
    "# in case if tesseract is not included in PATH\n",
    "pytesseract.pytesseract.tesseract_cmd = r'C:\\amit.la\\WIP\\RPA\\downloads\\ts\\tesseract.exe'\n",
    "##############################################################################\n",
    "\n",
    "def read_image_text(image_path):\n",
    "    \"\"\"\n",
    "    Reads text from an image file using Tesseract OCR.\n",
    "\n",
    "    Args:\n",
    "        image_path (str): The file path to the input image.\n",
    "\n",
    "    Returns:\n",
    "        str: The extracted text from the image.\n",
    "    \"\"\"\n",
    "    # Load the image file\n",
    "    image = Image.open(image_path)\n",
    "\n",
    "    # Use Tesseract OCR to extract the text from the image\n",
    "    text = pytesseract.image_to_string(image)\n",
    "\n",
    "    return text\n",
    "\n",
    "# Example usage\n",
    "image_path = \"../downloads/medical_form.png\"\n",
    "# image_path = \"../downloads/email.png\"\n",
    "# image_path = \"../downloads/vaccine.png\"\n",
    "# image_path = \"../downloads/blurry_1.png\"\n",
    "# image_path = \"../downloads/blurry_2.png\"\n",
    "text = read_image_text(image_path)\n",
    "print(text)"
   ]
  },
  {
   "cell_type": "code",
   "execution_count": null,
   "metadata": {},
   "outputs": [],
   "source": [
    "images = {\n",
    "        \"AAPL\": \"../downloads/AAPL.png\",\n",
    "        \"ORCL\": \"../downloads/ORCL.png\",\n",
    "        \"TSLA\": \"../downloads/TSLA.png\",\n",
    "        \"GOOG\": \"../downloads/GOOG.png\",\n",
    "        \"MSFT\": \"../downloads/MSFT.png\"\n",
    "    }\n",
    "\n",
    "for key,value in images.items():\n",
    "    # print(key, value)\n",
    "    text = read_image_text(value)\n",
    "    print(text)"
   ]
  },
  {
   "cell_type": "markdown",
   "metadata": {},
   "source": [
    "## Step 2: convert all PDFs | texts to one csv\n",
    "---\n",
    "In this step, We will convert all PDFs/text files to one csv and simply build a Q&A prompt using Gen AI (Claude) with entire file content at once. As one big csv can be too much data to input, we will split big csv into smaller csvs."
   ]
  },
  {
   "cell_type": "code",
   "execution_count": 23,
   "metadata": {},
   "outputs": [],
   "source": [
    "# remove new lines function converts all new line and tab chars to space\n",
    "def remove_newlinechars(txt):\n",
    "    txt = txt.str.replace('\\n', ' ')\n",
    "    txt = txt.str.replace('\\\\n', ' ')\n",
    "    txt = txt.str.replace('  ', ' ')\n",
    "    txt = txt.str.replace('  ', ' ')\n",
    "    return txt"
   ]
  },
  {
   "cell_type": "code",
   "execution_count": 20,
   "metadata": {},
   "outputs": [
    {
     "data": {
      "text/html": [
       "<div>\n",
       "<style scoped>\n",
       "    .dataframe tbody tr th:only-of-type {\n",
       "        vertical-align: middle;\n",
       "    }\n",
       "\n",
       "    .dataframe tbody tr th {\n",
       "        vertical-align: top;\n",
       "    }\n",
       "\n",
       "    .dataframe thead th {\n",
       "        text-align: right;\n",
       "    }\n",
       "</style>\n",
       "<table border=\"1\" class=\"dataframe\">\n",
       "  <thead>\n",
       "    <tr style=\"text-align: right;\">\n",
       "      <th></th>\n",
       "      <th>fname</th>\n",
       "      <th>text</th>\n",
       "    </tr>\n",
       "  </thead>\n",
       "  <tbody>\n",
       "    <tr>\n",
       "      <th>0</th>\n",
       "      <td></td>\n",
       "      <td>. 3. An Informal Introduction to Python In the...</td>\n",
       "    </tr>\n",
       "    <tr>\n",
       "      <th>1</th>\n",
       "      <td></td>\n",
       "      <td>. 4. More Control Flow Tools As well as the wh...</td>\n",
       "    </tr>\n",
       "    <tr>\n",
       "      <th>2</th>\n",
       "      <td></td>\n",
       "      <td>. 5. Data Structures This chapter describes so...</td>\n",
       "    </tr>\n",
       "  </tbody>\n",
       "</table>\n",
       "</div>"
      ],
      "text/plain": [
       "  fname                                               text\n",
       "0        . 3. An Informal Introduction to Python In the...\n",
       "1        . 4. More Control Flow Tools As well as the wh...\n",
       "2        . 5. Data Structures This chapter describes so..."
      ]
     },
     "execution_count": 20,
     "metadata": {},
     "output_type": "execute_result"
    }
   ],
   "source": [
    "import pandas as pd\n",
    "# Create a list to store the text files\n",
    "texts=[]\n",
    "\n",
    "# Get all the text files in the text directory\n",
    "for file in os.listdir(\"../downloads/texts/\"):\n",
    "\n",
    "    # Open the file and read the text\n",
    "    with open(\"../downloads/texts/\" + file, \"r\", encoding=\"UTF-8\") as f:\n",
    "        text = f.read()\n",
    "\n",
    "        # Omit the first 11 lines and the last 4 lines, then replace -, _, and #update with spaces.\n",
    "        texts.append((file[11:-4].replace('-',' ').replace('_', ' ').replace('#update',''), text))\n",
    "\n",
    "# Create a dataframe from the list of texts\n",
    "df = pd.DataFrame(texts, columns = ['fname', 'text'])\n",
    "\n",
    "# Set the text column to be the raw text with the newlines removed\n",
    "df['text'] = df.fname + \". \" + remove_newlinechars(df.text)\n",
    "df.to_csv('../downloads/scraped.csv')\n",
    "df.head()\n",
    "\n",
    "# as you can see, we created one row in csv per txt file \n",
    "# i.e. chapter 3, 4 and 5 each has one row in csv"
   ]
  },
  {
   "cell_type": "markdown",
   "metadata": {},
   "source": [
    "## Step 3: Creating Embedding from csvs and other documents to create a Vector database.\n",
    "---\n",
    "\n",
    "Most of the API limit number of input tokens for embeddings. In this step, we will split rows into tokens."
   ]
  },
  {
   "cell_type": "code",
   "execution_count": null,
   "metadata": {},
   "outputs": [],
   "source": [
    "# !pip install tiktoken"
   ]
  },
  {
   "cell_type": "code",
   "execution_count": 32,
   "metadata": {},
   "outputs": [
    {
     "name": "stdout",
     "output_type": "stream",
     "text": [
      "   title                                               text  n_tokens\n",
      "0    NaN  . 3. An Informal Introduction to Python In the...      4216\n",
      "1    NaN  . 4. More Control Flow Tools As well as the wh...      8075\n",
      "2    NaN  . 5. Data Structures This chapter describes so...      5690\n"
     ]
    },
    {
     "data": {
      "text/plain": [
       "<Axes: >"
      ]
     },
     "execution_count": 32,
     "metadata": {},
     "output_type": "execute_result"
    },
    {
     "data": {
      "image/png": "[encoded data removed]",
      "text/plain": [
       "<Figure size 640x480 with 1 Axes>"
      ]
     },
     "metadata": {},
     "output_type": "display_data"
    }
   ],
   "source": [
    "########################\n",
    "# visualize text tokens\n",
    "########################\n",
    "\n",
    "import tiktoken\n",
    "\n",
    "# Load the cl100k_base tokenizer which is designed to work with the ada-002 model\n",
    "tokenizer = tiktoken.get_encoding(\"cl100k_base\")\n",
    "\n",
    "df = pd.read_csv('../downloads/scraped.csv', index_col=0)\n",
    "df.columns = ['title', 'text']\n",
    "\n",
    "# Tokenize the text and save the number of tokens to a new column\n",
    "df['n_tokens'] = df.text.apply(lambda x: len(tokenizer.encode(x)))\n",
    "\n",
    "print(df)\n",
    "# Visualize the distribution of the number of tokens per row using a histogram\n",
    "df.n_tokens.hist()\n",
    "\n",
    "# as you can see in below results\n",
    "# Chapter 3, 4 & 5 has appx 4.2, 8 and 5.7k tokens\n",
    "# this is expectecd, as Chapter as longest text\n",
    "\n",
    "# now, we will need to further split these rows based on number of tokens\n",
    "# because most of the vector databases have upper limits of # of tokens that can be stored"
   ]
  },
  {
   "cell_type": "code",
   "execution_count": 33,
   "metadata": {},
   "outputs": [],
   "source": [
    "#####################################################################\n",
    "# let's say we want to split csv into chunks of 500 tokens\n",
    "#####################################################################\n",
    "\n",
    "max_tokens = 500\n",
    "\n",
    "# Function to split the text into chunks of a maximum number of tokens\n",
    "def split_into_many(text, max_tokens = max_tokens):\n",
    "\n",
    "    # Split the text into sentences\n",
    "    sentences = text.split('. ')\n",
    "\n",
    "    # Get the number of tokens for each sentence\n",
    "    n_tokens = [len(tokenizer.encode(\" \" + sentence)) for sentence in sentences]\n",
    "\n",
    "    chunks = []\n",
    "    tokens_so_far = 0\n",
    "    chunk = []\n",
    "\n",
    "    # Loop through the sentences and tokens joined together in a tuple\n",
    "    for sentence, token in zip(sentences, n_tokens):\n",
    "\n",
    "        # If the number of tokens so far plus the number of tokens in the current sentence is greater\n",
    "        # than the max number of tokens, then add the chunk to the list of chunks and reset\n",
    "        # the chunk and tokens so far\n",
    "        if tokens_so_far + token > max_tokens:\n",
    "            chunks.append(\". \".join(chunk) + \".\")\n",
    "            chunk = []\n",
    "            tokens_so_far = 0\n",
    "\n",
    "        # If the number of tokens in the current sentence is greater than the max number of\n",
    "        # tokens, go to the next sentence\n",
    "        if token > max_tokens:\n",
    "            continue\n",
    "\n",
    "        # Otherwise, add the sentence to the chunk and add the number of tokens to the total\n",
    "        chunk.append(sentence)\n",
    "        tokens_so_far += token + 1\n",
    "\n",
    "    return chunks\n",
    "\n",
    "\n",
    "shortened = []\n",
    "\n",
    "# Loop through the dataframe\n",
    "for row in df.iterrows():\n",
    "\n",
    "    # If the text is None, go to the next row\n",
    "    if row[1]['text'] is None:\n",
    "        continue\n",
    "\n",
    "    # If the number of tokens is greater than the max number of tokens, split the text into chunks\n",
    "    if row[1]['n_tokens'] > max_tokens:\n",
    "        shortened += split_into_many(row[1]['text'])\n",
    "\n",
    "    # Otherwise, add the text to the list of shortened texts\n",
    "    else:\n",
    "        shortened.append( row[1]['text'] )"
   ]
  },
  {
   "cell_type": "code",
   "execution_count": 37,
   "metadata": {},
   "outputs": [
    {
     "name": "stdout",
     "output_type": "stream",
     "text": [
      "                                                text  n_tokens\n",
      "0  . 3. An Informal Introduction to Python In the...       495\n",
      "1  To do floor division and get an integer result...       483\n",
      "2  This includes characters “!”, words “rabbit”, ...       462\n",
      "3  The following example: print(\"\"\"\\ Usage: thing...       453\n",
      "4  While indexing is used to obtain individual ch...       416\n",
      "(37, 2)\n"
     ]
    },
    {
     "data": {
      "text/plain": [
       "<Axes: >"
      ]
     },
     "execution_count": 37,
     "metadata": {},
     "output_type": "execute_result"
    },
    {
     "data": {
      "image/png": "[encoded data removed]",
      "text/plain": [
       "<Figure size 640x480 with 1 Axes>"
      ]
     },
     "metadata": {},
     "output_type": "display_data"
    }
   ],
   "source": [
    "#####################################################################\n",
    "# Visualizing the updated histogram again can help to confirm\n",
    "# if the rows were successfully split into shortened sections.\n",
    "#####################################################################\n",
    "\n",
    "df = pd.DataFrame(shortened, columns = ['text'])\n",
    "df['n_tokens'] = df.text.apply(lambda x: len(tokenizer.encode(x)))\n",
    "print(df.head())\n",
    "print(df.shape) # we had appx 18k tokens earlier, so we should expect ~35+ distributions of 500 each\n",
    "df.n_tokens.hist()\n",
    "\n",
    "#####################################################################\n",
    "# as you can see from histogram\n",
    "# most of rows have about 450-500 tokens each"
   ]
  },
  {
   "cell_type": "code",
   "execution_count": 21,
   "metadata": {},
   "outputs": [
    {
     "name": "stdout",
     "output_type": "stream",
     "text": [
      "[-0.02412840537726879, 0.018993981182575226, 0.015429655089974403, 0.03032810427248478, -0.07588519901037216, -0.04830646887421608, 0.014070366509258747, 0.013044246472418308, -0.02055560238659382, 0.028754305094480515, -0.013207009993493557, 0.03885889798402786, -0.020923029631376266, 0.0061696176417171955, -0.035619620233774185, -0.02174042910337448, 0.00340257678180933, 0.004030129872262478, -0.02279907837510109, -0.026999060064554214, 0.004309683572500944, -0.012094165198504925, -0.009079143404960632, 0.025330478325486183, 0.024653639644384384, -0.004623811226338148, 0.033607009798288345, 0.012120068073272705, 0.027480129152536392, 0.017785698175430298, -0.01839103177189827, -0.0009876831900328398, 0.0174757931381464, 0.053816672414541245, 0.06095225363969803, -0.0008727280073799193, 0.01812352053821087, -0.03177871182560921, 0.017045531421899796, -0.01442217081785202, -0.06151377782225609, -0.02231586165726185, -0.012942302040755749, -0.031168006360530853, -0.010183855891227722, -0.036169689148664474, 0.0017484104027971625, -0.009789809584617615, -0.00413814652711153, 0.01798236183822155, 0.06357747316360474, -0.028587182983756065, 0.044651780277490616, 0.05249021202325821, -0.03618210181593895, 0.026511069387197495, -0.0073462664149701595, -0.006776026915758848, -0.007050701882690191, -0.04196734353899956, -0.023418858647346497, -0.031178507953882217, 0.05543583631515503, -0.04772584140300751, 0.005564998835325241, -0.03158007562160492, -0.058692775666713715, -0.051354750990867615, 0.027227776125073433, -0.006288154050707817, -0.004962707869708538, 0.0027805299032479525, 0.0293955709785223, -0.011464507319033146, -0.0058103082701563835, 0.004992312286049128, -0.01903958059847355, -0.0041082436218857765, 0.05042973905801773, 0.041159432381391525, 0.03355592116713524, -0.04491535201668739, -0.026153428480029106, 0.005115145817399025, 0.0007486111135222018, -0.007906120270490646, 0.028934555128216743, 0.012968086637556553, -0.012449057772755623, -0.019841641187667847, -0.0015779773239046335, -0.02197016030550003, -0.007384465541690588, -0.021447788923978806, 0.02643323689699173, 0.03143110126256943, -0.09714390337467194, -0.005027467384934425, -0.016522116959095, -0.011288285255432129, -0.02758350409567356, 0.01388692855834961, -0.03621063381433487, 0.06478361040353775, -0.011821025982499123, 0.017380056902766228, -0.04127737134695053, -0.02870178036391735, -0.024126017466187477, 0.003819636069238186, -0.02126968652009964, 0.022280527278780937, 0.007619031704962254, -0.024207906797528267, -0.0014437136705964804, 0.061120208352804184, 0.05044053867459297, 0.04706165939569473, -0.026010660454630852, 0.013995281420648098, -0.01634189486503601, 0.009713231585919857, 0.03088509477674961, -0.002840551547706127, -0.030949791893363, 0.0009742836118675768, 0.03440919145941734, 0.0030335383489727974, -0.010020674206316471, 0.038285914808511734, -0.011200188659131527, -0.02488044835627079, 0.0011703221825882792, -0.0637216791510582, 0.027814073488116264, -0.04615705460309982, 0.019049368798732758, 0.052706994116306305, 0.040281571447849274, 0.02351638488471508, 0.009569806978106499, 0.007555346470326185, 0.019872557371854782, 0.011340569704771042, -0.03105865977704525, 0.02743452973663807, 0.019394831731915474, 0.05795171856880188, -0.054210126399993896, 0.009521282278001308, -0.04438342899084091, -0.034875694662332535, 0.003012618748471141, -0.024511825293302536, 0.006737708579748869, -0.015913408249616623, -0.059338342398405075, -0.017770418897271156, -0.018586205318570137, -0.011087979190051556, -0.017798351123929024, 0.03447556123137474, -0.01121475175023079, 0.016887305304408073, -0.004378382582217455, 0.019320104271173477, -0.004125254228711128, 0.060173943638801575, 0.0611480176448822, 0.017929302528500557, -0.013554769568145275, -0.04286668822169304, -0.03583783283829689, -0.03340790048241615, 0.010495387017726898, -0.03313435614109039, 0.019596807658672333, 0.009025470353662968, -0.047496646642684937, -0.031587716192007065, 0.04850474372506142, -0.022645268589258194, 0.021811814978718758, 0.017584556713700294, -0.04533076658844948, -0.006290392018854618, -0.02112596295773983, 0.006344003137201071, -0.027416860684752464, 0.02329900860786438, 0.08864843845367432, -0.04535696655511856, 0.027090022340416908, -0.009061073884367943, -0.040012508630752563, -0.004639627877622843, 0.006500874646008015, 0.027148514986038208, 0.04994520545005798, -0.01673808880150318, -0.008111321367323399, 0.010496759787201881, -0.012828600592911243, -0.02286616526544094, 0.017117870971560478, -0.016713500022888184, 0.013148099184036255, 0.04266256466507912, -0.02806791476905346, -0.036089468747377396, -0.045739494264125824, -0.03907376900315285, 0.0016036421293392777, 0.03648196533322334, -0.026159636676311493, -0.0061673494055867195, -0.007379570975899696, -0.051574867218732834, 0.08043183386325836, 0.03236709535121918, -0.012702961452305317, 0.007036623544991016, 0.016731644049286842, -0.002471356652677059, -0.04226911440491676, -0.03643421456217766, 0.024620454758405685, -0.026682963594794273, 0.022842053323984146, 0.03793066367506981, 0.020239507779479027, -0.02971298061311245, -0.005096463952213526, -0.024428267031908035, 0.013887488283216953, 0.017066363245248795, 0.013272961601614952, 0.012171637266874313, -0.005506268236786127, -0.007405534386634827, -0.020332854241132736, -0.033173929899930954, 0.0509001798927784, -0.00894131325185299, 0.006869373377412558, 0.020647520199418068, 0.060864388942718506, 0.02514975145459175, 0.051043424755334854, -0.029698774218559265, -0.02376563288271427, 0.02472836896777153, -0.05790635570883751, 0.016969909891486168, -0.04840005561709404, -0.013522807508707047, -0.046602748334407806, -0.008407482877373695, 0.03937553986907005, 0.02304689586162567, 0.01522075291723013, -0.024422537535429, -0.028944823890924454, 0.023846209049224854, 0.05210404470562935, 0.04366051405668259, 0.057922594249248505, 0.023383524268865585, -0.017950668931007385, -0.031264934688806534, -0.023049043491482735, 0.012504982762038708, -0.022725306451320648, 0.0312681570649147, 0.010376238264143467, -0.0058799320831894875, 0.010593540966510773, 0.02106424793601036, 0.024326084181666374, 0.04616732522845268, 0.023654738441109657, 0.022489547729492188, 0.019313300028443336, -0.04569556564092636, 0.032485391944646835, 0.030736833810806274, 0.012736743316054344, 0.026660045608878136, 0.004735006019473076, 0.03988263010978699, -0.03902219980955124, -0.011016594246029854, 0.0838661640882492, -0.057623207569122314, -0.019734801724553108, 0.015536789782345295, 0.0001507667184341699, 0.0069963871501386166, 0.04051196202635765, 7.242890569614246e-05, -0.033108994364738464, 0.03937553986907005, 0.07176066190004349, 0.030621280893683434, 0.03280769661068916, -0.0003342413401696831, -0.04901028424501419, 0.0010199880925938487, -0.0025074067525565624, -0.027759697288274765, -0.027563808485865593, -0.03136616200208664, -0.007387211080640554, -0.026040980592370033, 0.005604750011116266, 0.014438270591199398, -0.02572798728942871, -0.048120249062776566, 0.00885715615004301, -0.024807034060359, 0.06186138466000557, 0.03718386963009834, -0.043638549745082855, -0.02815362438559532, -0.004614798352122307, -0.008656253106892109, 0.0019557892810553312, -0.016127323731780052, 0.06236943230032921, 0.008652553893625736, -0.012404830195009708, -0.021299289539456367, -0.02654401585459709, 0.04897966608405113, -0.03883311524987221, 0.037801261991262436, -0.03593619540333748, -0.005165938287973404, -0.04086912050843239, 0.058365222066640854, -0.051853246986866, 0.026399336755275726, 0.016413159668445587, 0.014786598272621632, -0.027560586109757423, 0.030272716656327248, -0.008339799009263515, -0.03690889850258827, -0.000252232828643173, -0.02837088145315647, -0.06208676099777222, 0.011634821072220802, 0.07741029560565948, 0.021914055570960045, 0.01567562110722065, 0.03152862936258316, -0.015266234055161476, 0.028424838557839394, -0.008111082017421722, 0.032010532915592194, 0.044146593660116196, -0.017544446513056755, 0.04716622829437256, -0.01785947009921074, -0.05876535549759865, -0.0020862030796706676, 0.01359844021499157, 0.0025450089015066624, 0.030372988432645798, -0.01668604463338852, 0.017603058367967606, -0.011292940936982632, -0.0018108717631548643, -0.023326463997364044, -0.027373410761356354, -0.04268644005060196, 0.0030734536703675985, 0.004665964283049107, 0.0008367373957298696, 0.03328971937298775, -0.0009890334913507104, 0.03556232154369354, -0.01767396554350853, -0.0008658641017973423, 0.02580820582807064, -0.04592476040124893, -0.028355123475193977, -0.04644235596060753, 0.015549294650554657, -0.010017571039497852, 0.011946024373173714, -0.02052432857453823, 0.009030066430568695, 0.044126540422439575, -0.0022043215576559305, -0.010651913471519947, 0.003563549602404237, 0.03453190252184868, 0.05703112110495567, -0.03260476514697075, -0.06252080202102661, -0.004666486755013466, 0.06583420187234879, -0.04013092443346977, 0.026179691776633263, 0.016237683594226837, 0.02304164133965969, 0.047105107456445694, 0.03291107341647148, 0.0073496089316904545, -0.03387392684817314, 0.0712946355342865, -0.048261821269989014, -0.03599277883768082, -0.0071835629642009735, -0.0041691274382174015, -0.02359290048480034, -0.05080182105302811, -0.027137530967593193, -0.056083787232637405, 0.054181475192308426, -0.013569960370659828, 0.06404398381710052, -0.010531467385590076, 0.04212778061628342, -0.0035836342722177505, 0.008105800487101078, 0.01769840717315674, 0.0011329588014632463, 0.00968273263424635, -0.027607260271906853, 0.015616233460605145, -0.03527010232210159, 0.021478109061717987, -0.04266685992479324, -0.03068908490240574, 0.03424684330821037, 0.04064374789595604, -0.05651925504207611, 0.05891815572977066, 0.004409717861562967, -0.03218743950128555, 0.0030879126861691475, -0.01702076382935047, 0.014347070828080177, 0.006198744755238295, 0.0013484847731888294, -0.009222344495356083, -0.01342551875859499, -0.01628853566944599, 0.05599258467555046, -0.03669540211558342, -0.029333019629120827, -0.020085517317056656, 0.00542986998334527, 0.06046712398529053, 0.006174332462251186, -0.060635197907686234, 0.02548733353614807, -0.05307752266526222, -0.02928479202091694, -0.022256651893258095, 0.034573446959257126, -0.02435186877846718, -0.013641582801938057, 0.037138987332582474, 0.027431484311819077, -0.004776935093104839, 0.02922988310456276, -0.07614877074956894, 0.03133942186832428, 0.08479321002960205, -0.004324665293097496, 0.0015761269023641944, -0.0010509502608329058, -0.05287506803870201, 0.01624036207795143, 0.02322881855070591, 0.04177061840891838, -0.010703183710575104, -0.02645997516810894, 0.012968563474714756, -0.02880026213824749, 0.007717147469520569, 0.012003920041024685, -0.021957267075777054, -0.012228935956954956, 0.009869012050330639, -0.011239162646234035, 0.020388690754771233, -0.010391473770141602, -0.024282872676849365, 0.018034467473626137, -0.020364368334412575, -0.02907096967101097, -0.03917738050222397, -0.013851557858288288, -0.008263878524303436, -0.021416902542114258, 0.01389820221811533, -0.046810977160930634, -0.037463560700416565, 0.017651284113526344, 0.0007297503179870546, -0.012694724835455418, -0.011757894419133663, 0.012923203408718109, 0.025027990341186523, 0.05200031027197838, 0.01714211143553257, 0.010205104015767574, -0.03479165956377983, 0.019351886585354805, 0.07906240224838257, -0.034409668296575546, 0.024888446554541588, 0.04496891796588898, 0.00506244320422411, -0.00012426615285221487, -0.013472000136971474, -0.034421127289533615, 0.009654142893850803, -0.05843779817223549, 0.02402905747294426, -0.03512207791209221, -0.04781178757548332, -0.032282937318086624, 0.04051196202635765, -0.0016379018779844046, 0.010191316716372967, -0.007725750096142292, -0.031044812873005867, -0.030149046331644058, 0.00777469202876091, -0.020822281017899513, 0.01953115500509739, -0.004348002374172211, -0.038359444588422775, -0.03766804188489914, 0.025333106517791748, -0.0019994794856756926, -0.04064863920211792, 0.07120534032583237, -0.028181320056319237, 0.014869562350213528, 0.0386650376021862, -0.040649477392435074, -0.007995649240911007, 0.04196638613939285, -0.022611426189541817, 0.07941191643476486, 0.011064940132200718, -0.0003276758943684399, -0.02140815742313862, 0.02987019345164299, -0.001258776756003499, 0.011521298438310623, 0.03303999453783035, -0.07140158861875534, -0.06970507651567459, -0.027411609888076782, 0.03847678750753403, 0.006101097911596298, -0.005858892574906349, -0.04236508905887604, 0.020938370376825333, -0.01874890923500061, -0.0615825355052948, -0.0018814204959198833, -0.008993717841804028, -0.0031292447820305824, -0.004079535137861967, 0.0027696669567376375, -0.02172580547630787, 0.0005313243600539863, -0.000664244988001883, 0.02347937785089016, 0.034073516726493835, 0.026348959654569626, 0.010778977535665035, -0.03495973348617554, -0.02399136684834957, 0.05405351147055626, -0.008129226975142956, -0.03323648124933243, -0.02530684322118759, -0.02288144640624523, -0.00978986918926239, 0.033160559833049774, 0.020583536475896835, -0.036428485065698624, -0.01022038422524929, -0.01973336935043335, 0.003980336710810661, 0.01058303564786911, 0.003613745793700218, 0.02470475062727928, -0.044420674443244934, 0.020150931552052498, -0.04754726588726044, 0.020613856613636017, 0.06214405968785286, -0.011738317087292671, 0.035136882215738297, 0.00651549780741334, -0.0021633771248161793, -0.017438802868127823, -0.03088628500699997, 0.04406542330980301, -0.00028231454780325294, -0.03066234663128853, -0.06856149435043335, -0.008950326591730118, 0.05525678023695946, -0.028397144749760628, -0.019313061609864235, -0.012709645554423332, 0.00964441429823637, -0.035019658505916595, 0.01892462559044361, -0.0011536100646480918, 0.05636025220155716, -0.006250432226806879, 0.01408922765403986, -0.018221404403448105, 0.07162648439407349, -0.010142572224140167, -0.05146075412631035, -0.006697331089526415, -0.0631190836429596, 0.002091485308483243, 0.0445152148604393, 0.026499129831790924, 0.0033026624005287886, -0.022038739174604416, -0.03519752249121666, -0.04000964015722275, -0.007756786420941353, 0.02123470976948738, 0.036283329129219055, -0.03420243784785271, 0.013251863420009613, 0.023967253044247627, 0.01926567032933235, -0.020583298057317734, 0.002226524753496051, 0.02258182130753994, 0.024395201355218887, -0.0416732095181942, -0.021149538457393646, -0.004388350062072277, 0.01677037961781025, 0.032873112708330154, -0.016065070405602455, 0.08412663638591766, -0.0006061705062165856, 0.020852362737059593, -0.009804164059460163, -0.0401853583753109, -0.012731490656733513, -0.021631622686982155, -0.03617541864514351, -0.019501371309161186, 0.041869934648275375, -0.03155906870961189, -0.0022218693047761917, 0.03293900564312935, -0.052190352231264114, 0.039390817284584045, 0.013015417382121086, -0.10223200917243958, -0.020819207653403282, -0.015111885964870453, -0.0483938492834568, 0.03123604692518711, 0.03227434307336807, 0.05005025118589401, 0.001680278917774558, 0.027188144624233246, -0.01890110783278942, 0.041736237704753876, -0.07953988760709763, -0.03651208057999611, 0.03993038088083267, -0.011173687875270844, -0.0053530242294073105, 0.021671731024980545, 0.007732196245342493, -0.040666189044713974, -0.10119108855724335, -0.001731370110064745, 0.04211440682411194, -0.007190844044089317, 0.043947961181402206, 0.06553994864225388, -0.02525981329381466, -0.03918645530939102, -0.003338175592944026, -0.06282591074705124, 0.00975298322737217, 0.008143313229084015, 0.01924433372914791, 0.0398845411837101, -1.0027240023191553e-05, 0.009419159963726997, -0.0025657201185822487, 0.007246591150760651, -0.03678755834698677, -0.013112764805555344, -0.012229890562593937, -0.001653539715334773, -0.03525932505726814, -0.027396926656365395, -0.02751331403851509, -0.07336311042308807, -0.04723689705133438, 0.016514506191015244, 0.021269207820296288, 0.01075517013669014, 0.0008869332959875464, 0.012412648648023605, 0.03339434787631035, 0.035258639603853226, 0.010456053540110588, 0.01693338342010975, 0.049225155264139175, 0.027303695678710938, 0.023537276312708855, -0.010250181891024113, 0.024286454543471336, 0.003332326654344797, -0.0023803652729839087, 0.021566204726696014, 0.03839191421866417, -0.04201795533299446, -0.014782300218939781, -0.026709701865911484, 0.02304188162088394, 0.018555527552962303, 0.027734987437725067, -0.02413652092218399, 0.020942607894539833, -0.02825031615793705, 0.0010287470649927855, -0.003095910418778658, 0.015894608572125435, -0.006015149876475334, -0.015692392364144325, -0.03234238550066948, 0.03911960870027542, -0.044260237365961075, 0.04422394931316376, 0.009352908469736576, -0.01721963658928871, -0.0014471455942839384, -0.0023644589819014072, -0.020046601071953773, -0.009138158522546291, -0.03356260433793068, -0.04572660103440285, 0.052118729799985886, 0.0016666705487295985, -0.03257038816809654, 0.022662995383143425, 0.005153524223715067, -0.01837253011763096, 0.08873248100280762, 0.06035252660512924, -0.0019551326986402273, -0.04069340601563454, 0.03679764270782471, -0.0342349074780941, 0.018579281866550446, -0.007567223627120256, -0.02704537659883499, 0.009807118214666843, 0.016221895813941956, 0.010840878821909428, -0.021053383126854897, 0.01767408475279808, 0.0011479996610432863, -0.019393637776374817, 0.018984012305736542, 0.04101045802235603, 0.008748588152229786, -0.03439343348145485, 0.011633269488811493, 0.019804755225777626, -0.007866131141781807, -0.0009919805452227592, -0.006620246917009354, -0.019878527149558067, -0.022934922948479652, -0.00926672201603651, 0.020463209599256516, 0.017488418146967888, 0.03820951282978058, -0.02072773687541485, -0.007287655025720596, -0.024072060361504555, 0.0026444459799677134, -0.009032752364873886, 0.04972365126013756, -0.017915096133947372, 0.06057121604681015, 0.0405535027384758, 0.019766762852668762, 0.029518404975533485, 0.008361374959349632, -0.03528251498937607, -0.05402103811502457, 0.004224452190101147, -0.05258380249142647, -0.01782258413732052, 0.033924538642168045, -0.04161841794848442, -0.03187659755349159, 0.010297497734427452, -0.004552575759589672, 0.02669907920062542, 0.014324091374874115, 0.0018753325566649437, 0.012686309404671192, 0.001756796264089644, 0.05357984080910683, -0.044097889214754105, 0.0422925129532814, 0.015270248986780643, 0.054226357489824295, -0.018826620653271675, -0.0011335555464029312, -0.004140832461416721, 0.03037346340715885, 0.03477029129862785, -0.0183543860912323, -0.0061782123520970345, 0.01896103471517563, -0.0063319033943116665, 0.02353631891310215, 0.031128453090786934, -0.052534617483615875, -0.049671124666929245, -0.006152756046503782, 0.055304527282714844, 0.014468352310359478, 0.0041455477476119995, -0.019387908279895782, 0.010305257514119148, 0.00467549916356802, 0.03171902522444725, 0.002848571864888072, -0.018716933205723763, -0.01618444174528122, -0.04934142529964447, -0.018556421622633934, -0.051444996148347855, 0.0043111201375722885, -0.03873809427022934, -0.042302537709474564, -0.016474517062306404, 0.02068321220576763, 0.009623643942177296, -0.027366966009140015, 0.07853525131940842, -0.01308363862335682, -0.03331240266561508, 0.025994068011641502, 0.04170186072587967, 0.014664093032479286, -0.009666438214480877, -0.03848263621330261, 0.06900078058242798, 0.023627713322639465, -0.005096583627164364, -0.01907324232161045, -0.025891050696372986, 0.036251574754714966, 0.024383382871747017, -0.018395211547613144, -0.030819080770015717, 0.007149750366806984, 0.02936548925936222, 0.013282272964715958, 0.012875883840024471, 0.011214273981750011, 0.0020394690800458193, 0.02545056864619255, 0.006486072205007076, 0.024257564917206764, -0.024274038150906563, 0.005835435818880796, 0.0010729444911703467, 0.010310390032827854, -0.018728377297520638, 0.05628623813390732, -0.029906481504440308, -0.017007244750857353, -0.07040268182754517, -0.0198419988155365, 0.06200845167040825, 0.03923993557691574, 2.617229074530769e-05, 0.04101045802235603, 0.06304555386304855, -0.020804613828659058, -0.01587694138288498, 0.052506450563669205, 0.04446173831820488, -0.025387538596987724, -0.005609166342765093, 0.015359464101493359, -0.06865078210830688, 0.008599686436355114, -0.018468743190169334, 0.03682050481438637, -0.024453096091747284, -0.05078081041574478, -0.02013162523508072, 0.018657829612493515, 0.01037646271288395, 0.0032576594967395067, -0.022917496040463448, -0.013151202350854874, -0.01778426580131054, -0.0003869440406560898, 0.018572119995951653, 0.010258463211357594, 0.011061358265578747, -0.024700434878468513, 0.0038008014671504498, 0.016378303989768028, 0.007390135433524847, 0.04692366346716881, 0.013340526260435581, 0.014340625144541264, 0.012027913704514503, 0.02880873903632164, -0.010668461211025715, 0.013489980250597, -0.01415914949029684, -0.0675329864025116, -0.004148367792367935, 0.05772431567311287, 0.011187415570020676, 0.022843962535262108, -0.016992293298244476, -0.01633741892874241, -0.014986426569521427, 0.06233290582895279, -0.02275574766099453, -0.02317199669778347, 0.011296343058347702, 0.031502723693847656, -0.0063718934543430805, 0.014652722515165806, 0.009971791878342628, -0.011851034127175808, -0.024130314588546753, 0.01467176154255867, -0.052755217999219894, -0.007699905429035425, 0.052426233887672424, -0.03634969890117645, 0.032197944819927216, 0.02411646582186222, 0.030775032937526703, -0.014530784450471401, -0.06764471530914307, -0.04130876809358597, 0.047282733023166656, -0.019728923216462135, 0.003712704870849848, 0.04736008867621422, -0.005085362587124109, -0.01949617825448513, -0.03908069059252739, -0.016585294157266617, 0.03524145111441612, 0.010989975184202194, -0.006358464248478413, -0.062740758061409, 0.014461309649050236, 0.03731339052319527, 0.036483876407146454, -0.0037575140595436096, 0.03620072454214096, -0.014144973829388618, 0.013748002238571644, 0.028421854600310326, 0.02015666291117668, -0.03422249108552933, -0.015972886234521866, 0.030568279325962067, 0.06392604112625122, 0.03822121024131775, 0.024055229499936104, -0.012089993804693222, 0.01871870830655098, -0.009547485038638115, -0.01868337392807007, 0.002393167931586504, 0.003443342400714755, 0.005711468402296305, 0.014327135868370533, 0.038434889167547226, 0.009095900692045689, 0.013098142109811306, -0.037374865263700485, -0.027239713817834854, -0.04554849863052368, 0.026705047115683556, -0.059271492063999176, 0.046037446707487106, -0.021691666916012764, -0.01238089520484209, 0.011897559277713299, 0.0324457623064518, -0.03802615776658058, 0.006318951956927776, 0.030784105882048607, 0.01635347306728363, -0.015486116521060467, -0.05094745010137558, -0.0688365250825882]\n",
      "[-0.024528151378035545, 0.024801619350910187, 0.001089152880012989, 0.030356580391526222, -0.08052637428045273, -0.04757068678736687, 0.00817028060555458, 0.007540177088230848, -0.02138308435678482, 0.02875256910920143, -0.015345833264291286, 0.03736797720193863, -0.013723543845117092, 0.0016359082655981183, -0.042654793709516525, -0.01892743445932865, 0.004881788045167923, 0.013864968903362751, -0.024116072803735733, -0.027246616780757904, 0.010732943192124367, -0.01440866757184267, -0.013858401216566563, 0.028970470651984215, 0.025061773136258125, -0.0019942380022257566, 0.031958650797605515, 0.01990424655377865, 0.029823198914527893, 0.01673109084367752, -0.016183428466320038, 0.0030996124260127544, 0.015605257824063301, 0.052204765379428864, 0.06557240337133408, -0.0006836107932031155, 0.015916133299469948, -0.03080182895064354, 0.014220846816897392, -0.01419825479388237, -0.065026193857193, -0.022937944158911705, -0.011259542778134346, -0.02768895961344242, -0.006667111534625292, -0.03473135083913803, 0.006219683680683374, 0.0007800934254191816, 0.00018863759760279208, 0.015547756105661392, 0.058787379413843155, -0.03645084798336029, 0.041389986872673035, 0.051346227526664734, -0.03603150695562363, 0.023583905771374702, -0.009467652067542076, -0.010209732688963413, -0.0009523580083623528, -0.04356514662504196, -0.02780105732381344, -0.03673315420746803, 0.05283426120877266, -0.044432882219552994, 0.015018857084214687, -0.026193417608737946, -0.06385628879070282, -0.05372233688831329, 0.029947403818368912, -0.009929122403264046, -0.007370333652943373, 0.00239959848113358, 0.040266573429107666, -0.006186937913298607, -0.003430961398407817, 0.004827161319553852, -0.021457653492689133, -0.0036174352280795574, 0.049891844391822815, 0.039075370877981186, 0.03446356952190399, -0.04816967993974686, -0.02946680784225464, -0.0013540867948904634, -0.0027431591879576445, -0.006012675818055868, 0.030686821788549423, 0.018827805295586586, -0.018691010773181915, -0.02135566435754299, 0.0011199618456885219, -0.021419521421194077, -0.005355818197131157, -0.02887653186917305, 0.0345037616789341, 0.03431987762451172, -0.09613502025604248, -0.002819667337462306, -0.009808307513594627, -0.013848958536982536, -0.02362215891480446, 0.016379110515117645, -0.036799006164073944, 0.06233774870634079, -0.01108897291123867, 0.022451112046837807, -0.0338621586561203, -0.031762536615133286, -0.02050178498029709, 0.00011581404396565631, -0.01990812085568905, 0.021139515563845634, 0.009455304592847824, -0.027333050966262817, -0.0017619894351810217, 0.06300017237663269, 0.04673733189702034, 0.046440981328487396, -0.025132590904831886, 0.011998855508863926, -0.010451908223330975, 0.0060845836997032166, 0.03331739827990532, -0.004163222387433052, -0.02935010753571987, 0.0032499053049832582, 0.035950154066085815, 0.006771160289645195, -0.0021416479721665382, 0.0308725256472826, -0.006378510966897011, -0.030640095472335815, -0.005542004480957985, -0.06597721576690674, 0.02703576348721981, -0.039404645562171936, 0.02309241145849228, 0.050619397312402725, 0.040068041533231735, 0.03248537331819534, 0.01652129925787449, 0.0031351428478956223, 0.015116428956389427, 0.006631097290664911, -0.029250357300043106, 0.023129213601350784, 0.01567547209560871, 0.06332557648420334, -0.060057997703552246, 0.010856663808226585, -0.04466047137975693, -0.026703311130404472, -0.000542488181963563, -0.020870767533779144, 0.0064622825011610985, -0.00613887794315815, -0.06560532748699188, -0.017902564257383347, -0.016962068155407906, -0.009054785594344139, -0.01890823245048523, 0.031489431858062744, -0.009435208514332771, 0.015286152251064777, -0.0037309869658201933, 0.018868722021579742, -0.0006681759841740131, 0.06409066170454025, 0.06148744374513626, 0.0193350650370121, -0.015263635665178299, -0.044174790382385254, -0.03178626671433449, -0.03214846923947334, 0.008890935219824314, -0.03213200718164444, 0.016281001269817352, -1.1500446817080956e-05, -0.04148973524570465, -0.026001177728176117, 0.05115392804145813, -0.01786927320063114, 0.02794075943529606, 0.016982709988951683, -0.04151201248168945, -0.014064954593777657, -0.021351607516407967, 0.008625577203929424, -0.02747274935245514, 0.023203302174806595, 0.08588291704654694, -0.04627622291445732, 0.022873541340231895, 0.002408072352409363, -0.040401190519332886, 0.0011465037241578102, 0.006656239274889231, 0.0338418185710907, 0.04818081855773926, -0.014386332593858242, -0.0063170138746500015, 0.007908493280410767, -0.013419870287179947, -0.01856677606701851, 0.014550667256116867, -0.017241952940821648, 0.020434310659766197, 0.04055226966738701, -0.041597720235586166, -0.03957218676805496, -0.046781398355960846, -0.030352948233485222, 0.00011573080701055005, 0.0358688049018383, -0.028505612164735794, -0.009275472722947598, -0.0036840166430920362, -0.05822760984301567, 0.07214823365211487, 0.03400815278291702, -0.012394515797495842, 0.010364384390413761, 0.016571296378970146, -0.0066542793065309525, -0.038732536137104034, -0.04004189372062683, 0.03637046366930008, -0.03413332626223564, 0.024046828970313072, 0.04255794733762741, 0.016397858038544655, -0.02822136878967285, -0.00906235259026289, -0.026073811575770378, 0.021160822361707687, 0.01879584603011608, 0.008721817284822464, 0.009815086610615253, -0.011322553269565105, -0.015182405710220337, -0.02303333766758442, -0.035551149398088455, 0.04819534718990326, -0.006947964895516634, 0.01158784981817007, 0.01965619996190071, 0.0597519613802433, 0.033025648444890976, 0.05229289084672928, -0.025808455422520638, -0.025659313425421715, 0.02728462778031826, -0.05182803049683571, 0.01567280851304531, -0.04170861095190048, -0.011830932460725307, -0.04922866076231003, -0.006197408773005009, 0.03491584211587906, 0.02118745446205139, 0.014748657122254372, -0.01811889372766018, -0.03569835424423218, 0.027105826884508133, 0.051684703677892685, 0.04058343917131424, 0.05751470476388931, 0.026244262233376503, -0.02085236646234989, -0.025571666657924652, -0.023931097239255905, 0.008508393540978432, -0.02203630842268467, 0.03319065272808075, 0.010788628831505775, -0.010074451565742493, 0.009892381727695465, 0.02209671586751938, 0.0252317376434803, 0.04459364712238312, 0.01809631660580635, 0.018841424956917763, 0.014601788483560085, -0.04692182317376137, 0.03673751279711723, 0.027326999232172966, 0.01779688149690628, 0.019280558452010155, 0.007542598061263561, 0.035197664052248, -0.04283395782113075, -0.009120731614530087, 0.07575913518667221, -0.05681172385811806, -0.023788735270500183, 0.014138557948172092, 0.005468613933771849, 0.003394931787624955, 0.038262832909822464, 0.009029485285282135, -0.036280881613492966, 0.036329787224531174, 0.06979487836360931, 0.0311930850148201, 0.03027474507689476, -0.0011673558037728071, -0.043140958994627, 0.004505088087171316, -0.006653916090726852, -0.03511001542210579, -0.03407860919833183, -0.027592355385422707, -0.0004722143930848688, -0.023273514583706856, 0.005335723049938679, 0.015422219410538673, -0.025917891412973404, -0.04287814348936081, 0.0074702063575387, -0.02461032010614872, 0.06160946935415268, 0.03823571652173996, -0.04984753578901291, -0.030620725825428963, -0.011766651645302773, -0.0018302053213119507, -0.0044779409654438496, -0.011485435999929905, 0.05323714017868042, 0.002445115940645337, -0.005468401592224836, -0.023985331878066063, -0.028571952134370804, 0.04752626270055771, -0.03934847563505173, 0.03682854771614075, -0.0278876144438982, -0.005145784001797438, -0.03001108206808567, 0.05681172385811806, -0.04814789071679115, 0.02889009192585945, 0.016301458701491356, 0.01631973870098591, -0.0225820355117321, 0.02707519941031933, -0.00985830370336771, -0.040203019976615906, -0.0001192414783872664, -0.0345381423830986, -0.05403127893805504, 0.010695615783333778, 0.08283226937055588, 0.026784420013427734, 0.008245214819908142, 0.033886611461639404, -0.014089137315750122, 0.03340891748666763, -0.009515590965747833, 0.03538699448108673, 0.04554080218076706, -0.022921964526176453, 0.04341793805360794, -0.01872660033404827, -0.054870929569005966, -0.0013322358718141913, 0.014331735670566559, 0.006098626181483269, 0.026905719190835953, -0.019082823768258095, 0.018229901790618896, -0.0106282290071249, -0.0046108318492770195, -0.018742460757493973, -0.026445457711815834, -0.0497710257768631, 0.006729637272655964, 0.007200066465884447, 0.0035600541159510612, 0.039533935487270355, 0.0034471077378839254, 0.03797616809606552, -0.020666908472776413, 0.00107405090238899, 0.015342443250119686, -0.04462851211428642, -0.028716251254081726, -0.04899626225233078, 0.01826380006968975, -0.006807750090956688, 0.005976600106805563, -0.020130867138504982, 0.013626456260681152, 0.04412684962153435, 0.004248870071023703, -0.015667179599404335, 0.007264907471835613, 0.03314259275794029, 0.055515922605991364, -0.03510565683245659, -0.05653038248419762, -0.0024598243180662394, 0.06442247331142426, -0.04074935242533684, 0.023878799751400948, 0.010971426032483578, 0.028212957084178925, 0.04465950280427933, 0.032766345888376236, -0.00044706472544930875, -0.035886235535144806, 0.0770505741238594, -0.05086659640073776, -0.04063132032752037, 0.0002646313514560461, -0.0038325239438563585, -0.016905101016163826, -0.0550917387008667, -0.033373087644577026, -0.05269916355609894, 0.05515372380614281, -0.0175889041274786, 0.06498309224843979, -0.004261793103069067, 0.03864537179470062, -0.007437762338668108, 0.004831110592931509, 0.020141882821917534, 0.002675843657925725, 0.011965245939791203, -0.024286946281790733, 0.01652541570365429, -0.03529644384980202, 0.028851836919784546, -0.04017535597085953, -0.03748322278261185, 0.038667649030685425, 0.043241679668426514, -0.05852976813912392, 0.053676821291446686, 0.015910081565380096, -0.03864343836903572, 0.0068531520664691925, -0.021390104666352272, 0.007542923558503389, 0.007084517274051905, -0.0029177237302064896, -0.004078996367752552, -0.012041451409459114, -0.015250075608491898, 0.055055905133485794, -0.03446478024125099, -0.02536393329501152, -0.018423957750201225, 0.0030512502416968346, 0.060970284044742584, 0.004957055673003197, -0.06473952531814575, 0.035419438034296036, -0.058663416653871536, -0.021682336926460266, -0.02422260493040085, 0.03401130065321922, -0.025261277332901955, -0.013592801988124847, 0.040123242884874344, 0.02775106206536293, -0.0033632072154432535, 0.033555153757333755, -0.07691498845815659, 0.03377209231257439, 0.08173549175262451, -0.00511297769844532, 0.003562717232853174, -0.003719849744811654, -0.06112136319279671, 0.020341355353593826, 0.02940579503774643, 0.03908989578485489, -0.009877067990601063, -0.022189809009432793, 0.01673496514558792, -0.03539377450942993, 0.018244188278913498, 0.01935277134180069, -0.015753917396068573, -0.008327292278409004, 0.013298874720931053, -0.013149663805961609, 0.02191585674881935, -0.01199548039585352, -0.018867995589971542, 0.02458583563566208, -0.0136119294911623, -0.02809767797589302, -0.041199926286935806, -0.01036141812801361, -0.006224768236279488, -0.021367350593209267, 0.019619034603238106, -0.04261218383908272, -0.04161914810538292, 0.014464051462709904, 0.003480882616713643, -0.01553801167756319, -0.015637217089533806, 0.0076533653773367405, 0.023201849311590195, 0.055517859756946564, 0.015397675335407257, 0.01573067530989647, -0.038328688591718674, 0.0248872097581625, 0.0743030533194542, -0.028597131371498108, 0.02344590052962303, 0.045242831110954285, 0.005697321146726608, 0.0030548665672540665, -0.013436168432235718, -0.03027111291885376, 0.009265970438718796, -0.054337311536073685, 0.016894035041332245, -0.03198274224996567, -0.04999183490872383, -0.026115939021110535, 0.0411800742149353, -0.0043952283449471, 0.0070267729461193085, -0.009743178263306618, -0.0325249582529068, -0.0325138233602047, 0.00377674656920135, -0.022529253736138344, 0.018614986911416054, 0.00013606844004243612, -0.034159474074840546, -0.03536617383360863, 0.02230844646692276, -0.004221027251332998, -0.04067792743444443, 0.06623095273971558, -0.023794544860720634, 0.01819346472620964, 0.03776117041707039, -0.03763817995786667, -0.006634063087403774, 0.042121171951293945, -0.022076498717069626, 0.07402123510837555, 0.012128673493862152, 0.0030543520115315914, -0.014452913776040077, 0.020870767533779144, -0.0003722512919921428, 0.012823512777686119, 0.029636923223733902, -0.07185043394565582, -0.0590924434363842, -0.03066430613398552, 0.038881316781044006, 0.014466836117208004, -0.0042830766178667545, -0.035950638353824615, 0.02362554892897606, -0.017482858151197433, -0.05734873563051224, -0.005149809177964926, -0.012018178589642048, -0.007279056590050459, -0.007258476689457893, 0.00043606365215964615, -0.008995739743113518, -0.0001882441429188475, -0.001196258352138102, 0.02446804754436016, 0.04256375879049301, 0.026536010205745697, 0.012075711973011494, -0.03676317632198334, -0.025200746953487396, 0.05636041983962059, -0.01227854285389185, -0.03610171750187874, -0.02047134004533291, -0.02210046909749508, -0.004431803245097399, 0.036476027220487595, 0.025200264528393745, -0.030587313696742058, -0.008045349270105362, -0.020471762865781784, -9.829855116549879e-05, 0.017965393140912056, -0.0011869671288877726, 0.021206822246313095, -0.0378328375518322, 0.017672192305326462, -0.04188390076160431, 0.025919826701283455, 0.05989529564976692, -0.014010448940098286, 0.03339863568544388, 0.009039511904120445, -0.005893071182072163, -0.015032658353447914, -0.025875519961118698, 0.03666148707270622, 0.0030923488084226847, -0.02377033419907093, -0.07155166566371918, -0.011623924598097801, 0.04931391775608063, -0.028372934088110924, -0.01500178873538971, -0.007997410371899605, 0.016781695187091827, -0.03636853024363518, 0.017705300822854042, -0.0092916339635849, 0.053469087928533554, -0.0050013624131679535, 0.012829171493649483, -0.016254369169473648, 0.07362125813961029, -0.008744697086513042, -0.044366057962179184, -0.01035839132964611, -0.0684080496430397, 0.001607134472578764, 0.0451185517013073, 0.024179507046937943, -0.009476488456130028, -0.02070080302655697, -0.03997700661420822, -0.040057387202978134, -0.010630498640239239, 0.02084461972117424, 0.034275688230991364, -0.03898433595895767, 0.018739674240350723, 0.03013286553323269, 0.015147177502512932, -0.013175154104828835, 0.0014715729048475623, 0.02529033087193966, 0.03359679877758026, -0.0438227541744709, -0.014452792704105377, -0.009545370936393738, 0.019200904294848442, 0.030284186825156212, -0.017152370885014534, 0.08569648861885071, -0.005955899599939585, 0.027993297204375267, -0.005255341064184904, -0.03991115093231201, -0.01605910249054432, -0.021142421290278435, -0.03683919832110405, -0.016379723325371742, 0.03878192603588104, -0.030189277604222298, -0.0023899138905107975, 0.02961740270256996, -0.053551409393548965, 0.0424727238714695, 0.015627291053533554, -0.09857359528541565, -0.015501633286476135, -0.0081290602684021, -0.0471491664648056, 0.0318434052169323, 0.037818312644958496, 0.04708452150225639, 0.002366368193179369, 0.024197060614824295, -0.020853819325566292, 0.03876449540257454, -0.08476531505584717, -0.03758152201771736, 0.035412661731243134, -0.006009346805512905, -0.002081459853798151, 0.025207282975316048, 0.006111064925789833, -0.038336437195539474, -0.0976051390171051, -0.0003002221928909421, 0.043150644749403, -0.007599646225571632, 0.04739443212747574, 0.05743928253650665, -0.028519656509160995, -0.03772340342402458, -0.006330450996756554, -0.06602079421281815, 0.013758892193436623, 0.013515929691493511, 0.02323828637599945, 0.04021912068128586, 0.006867098156362772, 0.008005606941878796, -0.005398884881287813, 0.009125967510044575, -0.031900059431791306, -0.010656798258423805, -0.012235507369041443, -0.0031168630812317133, -0.03079577349126339, -0.027523353695869446, -0.029413722455501556, -0.0729985386133194, -0.042333267629146576, 0.012155367061495781, 0.018423957750201225, 0.005974663887172937, 0.001398877939209342, 0.02186858281493187, 0.024878915399312973, 0.03523882105946541, 0.0070857275277376175, 0.017827387899160385, 0.045304495841264725, 0.022921480238437653, 0.026039432734251022, -0.013163277879357338, 0.027898387983441353, 0.0007994929328560829, 0.006967242807149887, 0.020212579518556595, 0.0391799621284008, -0.035947248339653015, -0.01924956776201725, -0.02144918031990528, 0.01930924877524376, 0.014614162035286427, 0.03371719270944595, -0.023207658901810646, 0.0114479074254632, -0.034548792988061905, 0.003184231463819742, 0.0010002362541854382, 0.016278579831123352, -0.01200949214398861, -0.02310016006231308, -0.030722353607416153, 0.03678690269589424, -0.04110138490796089, 0.0451534166932106, 0.0021469518542289734, -0.01600607857108116, 0.0031849578954279423, -0.002010247902944684, -0.01945342868566513, -0.012098469771444798, -0.03298231214284897, -0.03865263611078262, 0.055278655141592026, -0.003880492877215147, -0.03972230106592178, 0.029437270015478134, 0.009013747796416283, -0.011461949907243252, 0.0829814150929451, 0.059242550283670425, -0.004104917868971825, -0.04018134996294975, 0.032164450734853745, -0.04239960387349129, 0.01180986873805523, -0.007878653705120087, -0.0278795026242733, 0.00708533450961113, 0.014169275760650635, 0.010966463014483452, -0.02270793542265892, 0.01784481853246689, 0.002209235681220889, -0.008485029451549053, 0.015559378080070019, 0.04103456437587738, -0.0009042982710525393, -0.03682370111346245, 0.00833031814545393, 0.02336103841662407, -0.0068906135857105255, -0.002113782102242112, -0.01035645417869091, -0.023125525563955307, -0.0143534354865551, -0.0009151328704319894, 0.021872639656066895, 0.021309208124876022, 0.039528608322143555, -0.015392924658954144, -0.006755241192877293, -0.027165750041604042, -0.0030098031274974346, -0.007886764593422413, 0.05492032319307327, -0.008946319110691547, 0.05870215222239494, 0.03902840241789818, 0.02649254910647869, 0.03347671031951904, 0.002552372869104147, -0.035289663821458817, -0.06312219798564911, 0.004062351305037737, -0.05145033448934555, -0.020595604553818703, 0.031955745071172714, -0.03808391094207764, -0.03174946457147598, 0.013110509142279625, -0.0008164106402546167, 0.022047748789191246, 0.011195987462997437, 0.0018749359296634793, 0.01738782785832882, -0.004890231881290674, 0.049745846539735794, -0.03477589786052704, 0.04319712892174721, 0.01912173256278038, 0.05231758952140808, -0.016482925042510033, 0.002316189929842949, -0.0033674517180770636, 0.03148410841822624, 0.0358349084854126, -0.010654376819729805, -0.012851378880441189, 0.019558990374207497, -0.002113176742568612, 0.023210080340504646, 0.03928576782345772, -0.053655512630939484, -0.0471397265791893, -0.006168113090097904, 0.05657154694199562, 0.011628283187747002, 0.008271506987512112, -0.020148539915680885, 0.005223654210567474, 0.00132308853790164, 0.034365274012088776, 0.0013128062710165977, -0.015132257714867592, -0.016673225909471512, -0.05697418004274368, -0.019994312897324562, -0.05476149544119835, 0.006705456878989935, -0.039457425475120544, -0.040190067142248154, -0.013767366297543049, 0.016764989122748375, 0.013374898582696915, -0.02234470285475254, 0.08114618062973022, -0.019963443279266357, -0.03412654623389244, 0.02377469092607498, 0.040999699383974075, 0.012214806862175465, -0.005001756362617016, -0.04096095636487007, 0.06959344446659088, 0.022150950506329536, -0.004209405742585659, -0.022994598373770714, -0.031639546155929565, 0.039195701479911804, 0.019103875383734703, -0.022815434262156487, -0.02908475138247013, 0.006718318909406662, 0.02595469169318676, 0.012291677296161652, 0.014207771979272366, 0.013518835417926311, -0.0021892008371651173, 0.02066951058804989, 0.015988826751708984, 0.02722966857254505, -0.021860532462596893, 0.00267402408644557, -0.0006372457719407976, 0.009916774928569794, -0.030436234548687935, 0.05992821976542473, -0.022679274901747704, -0.011889766901731491, -0.07329101115465164, -0.023726509883999825, 0.061834633350372314, 0.03996054083108902, -0.0025227894075214863, 0.03957945108413696, 0.05868278443813324, -0.025606531649827957, -0.012681088410317898, 0.052348095923662186, 0.045308854430913925, -0.023535724729299545, 0.0024267833214253187, 0.021413104608654976, -0.06753837317228317, 0.009065378457307816, -0.023589473217725754, 0.03891484811902046, -0.021209245547652245, -0.05381530895829201, -0.015543277375400066, 0.019670847803354263, 0.010699168778955936, -0.0017745037330314517, -0.02463274449110031, -0.011555406264960766, -0.016686080023646355, 0.0034220488741993904, 0.017644105479121208, 0.008035059086978436, 0.011804663576185703, -0.013327322900295258, -0.0005242992774583399, 0.020190978422760963, 0.0033101311419159174, 0.050884753465652466, 0.013146583922207355, 0.0087938467040658, 0.008562021888792515, 0.023922866210341454, -0.011100715026259422, 0.0084657808765769, -0.009348531253635883, -0.06281761825084686, -0.005656237713992596, 0.0544390007853508, 0.01125155296176672, 0.029825622215867043, -0.016509557142853737, -0.015299906954169273, -0.017429593950510025, 0.06314761936664581, -0.019609592854976654, -0.023602791130542755, 0.00610118405893445, 0.03125603497028351, -0.0038993170019239187, 0.018148673698306084, 0.01426975429058075, -0.005868526641279459, -0.021688632667064667, 0.01288122683763504, -0.05218733474612236, -0.0031548752449452877, 0.06254112720489502, -0.036142878234386444, 0.0371830016374588, 0.03259783238172531, 0.032438524067401886, -0.012999802827835083, -0.06311057507991791, -0.04672570899128914, 0.038615837693214417, -0.014429156668484211, 0.004137946758419275, 0.04419367387890816, -0.001795038115233183, -0.024384094402194023, -0.04064354673027992, -0.017638659104704857, 0.03684864193201065, 0.020198900252580643, -0.004879457876086235, -0.07055993378162384, 0.022076742723584175, 0.03965995833277702, 0.034617312252521515, -0.0037024777848273516, 0.025510653853416443, -0.015124177560210228, 0.02050783857703209, 0.024112926796078682, 0.017411554232239723, -0.03027692250907421, -0.01173115149140358, 0.03378661721944809, 0.06851264089345932, 0.044035088270902634, 0.01922360248863697, -0.016975142061710358, 0.017849121242761612, -0.012604004703462124, -0.02053743787109852, 0.000881539483089, 0.008190860040485859, 0.012529917992651463, 0.010191393084824085, 0.04013873636722565, 0.012489092536270618, 0.014962747693061829, -0.02861553244292736, -0.03557729721069336, -0.04531611502170563, 0.02291264198720455, -0.05808040127158165, 0.046101540327072144, -0.025775255635380745, -0.007834709249436855, 0.013059665448963642, 0.035490136593580246, -0.04151201248168945, 0.008143647573888302, 0.03212135285139084, 0.011341135017573833, -0.0192519910633564, -0.05262507498264313, -0.07061032205820084]\n"
     ]
    }
   ],
   "source": [
    "#####################################################################\n",
    "# now we have created tokens of text in equal chunks\n",
    "# we are ready to create embeddings and store into vector database\n",
    "# this is sample code to first test voyageai embeddings model\n",
    "#####################################################################\n",
    "\n",
    "# !pip install -U voyageai\n",
    "\n",
    "# Then, you can create a client object and start using it to embed your texts:\n",
    "import voyageai\n",
    "\n",
    "vo = voyageai.Client()\n",
    "# This will automatically use the environment variable VOYAGE_API_KEY.\n",
    "# Alternatively, you can use vo = voyageai.Client(api_key=\"<your secret key>\")\n",
    "\n",
    "texts = [\"Sample text 1\", \"Sample text 2\"]\n",
    "\n",
    "result = vo.embed(texts, model=\"voyage-2\", input_type=\"document\")\n",
    "print(result.embeddings[0])\n",
    "print(result.embeddings[1])"
   ]
  },
  {
   "cell_type": "code",
   "execution_count": null,
   "metadata": {},
   "outputs": [],
   "source": [
    "# this code is similar to above step\n",
    "# using curl to access voyageai embedding models\n",
    "\n",
    "# curl https://api.voyageai.com/v1/embeddings \\\n",
    "#   -H \"Content-Type: application/json\" \\\n",
    "#   -H \"Authorization: Bearer $VOYAGE_API_KEY\" \\\n",
    "#   -d '{\n",
    "#     \"input\": [\"Sample text 1\", \"Sample text 2\"],\n",
    "#     \"model\": \"voyage-2\"\n",
    "#   }'"
   ]
  },
  {
   "cell_type": "code",
   "execution_count": 48,
   "metadata": {},
   "outputs": [
    {
     "data": {
      "text/plain": [
       "2"
      ]
     },
     "execution_count": 48,
     "metadata": {},
     "output_type": "execute_result"
    }
   ],
   "source": [
    "df.text[:2].tolist()"
   ]
  },
  {
   "cell_type": "code",
   "execution_count": 49,
   "metadata": {},
   "outputs": [
    {
     "name": "stdout",
     "output_type": "stream",
     "text": [
      "[-0.02412840537726879, 0.018993981182575226, 0.015429655089974403, 0.03032810427248478, -0.07588519901037216, -0.04830646887421608, 0.014070366509258747, 0.013044246472418308, -0.02055560238659382, 0.028754305094480515, -0.013207009993493557, 0.03885889798402786, -0.020923029631376266, 0.0061696176417171955, -0.035619620233774185, -0.02174042910337448, 0.00340257678180933, 0.004030129872262478, -0.02279907837510109, -0.026999060064554214, 0.004309683572500944, -0.012094165198504925, -0.009079143404960632, 0.025330478325486183, 0.024653639644384384, -0.004623811226338148, 0.033607009798288345, 0.012120068073272705, 0.027480129152536392, 0.017785698175430298, -0.01839103177189827, -0.0009876831900328398, 0.0174757931381464, 0.053816672414541245, 0.06095225363969803, -0.0008727280073799193, 0.01812352053821087, -0.03177871182560921, 0.017045531421899796, -0.01442217081785202, -0.06151377782225609, -0.02231586165726185, -0.012942302040755749, -0.031168006360530853, -0.010183855891227722, -0.036169689148664474, 0.0017484104027971625, -0.009789809584617615, -0.00413814652711153, 0.01798236183822155, 0.06357747316360474, -0.028587182983756065, 0.044651780277490616, 0.05249021202325821, -0.03618210181593895, 0.026511069387197495, -0.0073462664149701595, -0.006776026915758848, -0.007050701882690191, -0.04196734353899956, -0.023418858647346497, -0.031178507953882217, 0.05543583631515503, -0.04772584140300751, 0.005564998835325241, -0.03158007562160492, -0.058692775666713715, -0.051354750990867615, 0.027227776125073433, -0.006288154050707817, -0.004962707869708538, 0.0027805299032479525, 0.0293955709785223, -0.011464507319033146, -0.0058103082701563835, 0.004992312286049128, -0.01903958059847355, -0.0041082436218857765, 0.05042973905801773, 0.041159432381391525, 0.03355592116713524, -0.04491535201668739, -0.026153428480029106, 0.005115145817399025, 0.0007486111135222018, -0.007906120270490646, 0.028934555128216743, 0.012968086637556553, -0.012449057772755623, -0.019841641187667847, -0.0015779773239046335, -0.02197016030550003, -0.007384465541690588, -0.021447788923978806, 0.02643323689699173, 0.03143110126256943, -0.09714390337467194, -0.005027467384934425, -0.016522116959095, -0.011288285255432129, -0.02758350409567356, 0.01388692855834961, -0.03621063381433487, 0.06478361040353775, -0.011821025982499123, 0.017380056902766228, -0.04127737134695053, -0.02870178036391735, -0.024126017466187477, 0.003819636069238186, -0.02126968652009964, 0.022280527278780937, 0.007619031704962254, -0.024207906797528267, -0.0014437136705964804, 0.061120208352804184, 0.05044053867459297, 0.04706165939569473, -0.026010660454630852, 0.013995281420648098, -0.01634189486503601, 0.009713231585919857, 0.03088509477674961, -0.002840551547706127, -0.030949791893363, 0.0009742836118675768, 0.03440919145941734, 0.0030335383489727974, -0.010020674206316471, 0.038285914808511734, -0.011200188659131527, -0.02488044835627079, 0.0011703221825882792, -0.0637216791510582, 0.027814073488116264, -0.04615705460309982, 0.019049368798732758, 0.052706994116306305, 0.040281571447849274, 0.02351638488471508, 0.009569806978106499, 0.007555346470326185, 0.019872557371854782, 0.011340569704771042, -0.03105865977704525, 0.02743452973663807, 0.019394831731915474, 0.05795171856880188, -0.054210126399993896, 0.009521282278001308, -0.04438342899084091, -0.034875694662332535, 0.003012618748471141, -0.024511825293302536, 0.006737708579748869, -0.015913408249616623, -0.059338342398405075, -0.017770418897271156, -0.018586205318570137, -0.011087979190051556, -0.017798351123929024, 0.03447556123137474, -0.01121475175023079, 0.016887305304408073, -0.004378382582217455, 0.019320104271173477, -0.004125254228711128, 0.060173943638801575, 0.0611480176448822, 0.017929302528500557, -0.013554769568145275, -0.04286668822169304, -0.03583783283829689, -0.03340790048241615, 0.010495387017726898, -0.03313435614109039, 0.019596807658672333, 0.009025470353662968, -0.047496646642684937, -0.031587716192007065, 0.04850474372506142, -0.022645268589258194, 0.021811814978718758, 0.017584556713700294, -0.04533076658844948, -0.006290392018854618, -0.02112596295773983, 0.006344003137201071, -0.027416860684752464, 0.02329900860786438, 0.08864843845367432, -0.04535696655511856, 0.027090022340416908, -0.009061073884367943, -0.040012508630752563, -0.004639627877622843, 0.006500874646008015, 0.027148514986038208, 0.04994520545005798, -0.01673808880150318, -0.008111321367323399, 0.010496759787201881, -0.012828600592911243, -0.02286616526544094, 0.017117870971560478, -0.016713500022888184, 0.013148099184036255, 0.04266256466507912, -0.02806791476905346, -0.036089468747377396, -0.045739494264125824, -0.03907376900315285, 0.0016036421293392777, 0.03648196533322334, -0.026159636676311493, -0.0061673494055867195, -0.007379570975899696, -0.051574867218732834, 0.08043183386325836, 0.03236709535121918, -0.012702961452305317, 0.007036623544991016, 0.016731644049286842, -0.002471356652677059, -0.04226911440491676, -0.03643421456217766, 0.024620454758405685, -0.026682963594794273, 0.022842053323984146, 0.03793066367506981, 0.020239507779479027, -0.02971298061311245, -0.005096463952213526, -0.024428267031908035, 0.013887488283216953, 0.017066363245248795, 0.013272961601614952, 0.012171637266874313, -0.005506268236786127, -0.007405534386634827, -0.020332854241132736, -0.033173929899930954, 0.0509001798927784, -0.00894131325185299, 0.006869373377412558, 0.020647520199418068, 0.060864388942718506, 0.02514975145459175, 0.051043424755334854, -0.029698774218559265, -0.02376563288271427, 0.02472836896777153, -0.05790635570883751, 0.016969909891486168, -0.04840005561709404, -0.013522807508707047, -0.046602748334407806, -0.008407482877373695, 0.03937553986907005, 0.02304689586162567, 0.01522075291723013, -0.024422537535429, -0.028944823890924454, 0.023846209049224854, 0.05210404470562935, 0.04366051405668259, 0.057922594249248505, 0.023383524268865585, -0.017950668931007385, -0.031264934688806534, -0.023049043491482735, 0.012504982762038708, -0.022725306451320648, 0.0312681570649147, 0.010376238264143467, -0.0058799320831894875, 0.010593540966510773, 0.02106424793601036, 0.024326084181666374, 0.04616732522845268, 0.023654738441109657, 0.022489547729492188, 0.019313300028443336, -0.04569556564092636, 0.032485391944646835, 0.030736833810806274, 0.012736743316054344, 0.026660045608878136, 0.004735006019473076, 0.03988263010978699, -0.03902219980955124, -0.011016594246029854, 0.0838661640882492, -0.057623207569122314, -0.019734801724553108, 0.015536789782345295, 0.0001507667184341699, 0.0069963871501386166, 0.04051196202635765, 7.242890569614246e-05, -0.033108994364738464, 0.03937553986907005, 0.07176066190004349, 0.030621280893683434, 0.03280769661068916, -0.0003342413401696831, -0.04901028424501419, 0.0010199880925938487, -0.0025074067525565624, -0.027759697288274765, -0.027563808485865593, -0.03136616200208664, -0.007387211080640554, -0.026040980592370033, 0.005604750011116266, 0.014438270591199398, -0.02572798728942871, -0.048120249062776566, 0.00885715615004301, -0.024807034060359, 0.06186138466000557, 0.03718386963009834, -0.043638549745082855, -0.02815362438559532, -0.004614798352122307, -0.008656253106892109, 0.0019557892810553312, -0.016127323731780052, 0.06236943230032921, 0.008652553893625736, -0.012404830195009708, -0.021299289539456367, -0.02654401585459709, 0.04897966608405113, -0.03883311524987221, 0.037801261991262436, -0.03593619540333748, -0.005165938287973404, -0.04086912050843239, 0.058365222066640854, -0.051853246986866, 0.026399336755275726, 0.016413159668445587, 0.014786598272621632, -0.027560586109757423, 0.030272716656327248, -0.008339799009263515, -0.03690889850258827, -0.000252232828643173, -0.02837088145315647, -0.06208676099777222, 0.011634821072220802, 0.07741029560565948, 0.021914055570960045, 0.01567562110722065, 0.03152862936258316, -0.015266234055161476, 0.028424838557839394, -0.008111082017421722, 0.032010532915592194, 0.044146593660116196, -0.017544446513056755, 0.04716622829437256, -0.01785947009921074, -0.05876535549759865, -0.0020862030796706676, 0.01359844021499157, 0.0025450089015066624, 0.030372988432645798, -0.01668604463338852, 0.017603058367967606, -0.011292940936982632, -0.0018108717631548643, -0.023326463997364044, -0.027373410761356354, -0.04268644005060196, 0.0030734536703675985, 0.004665964283049107, 0.0008367373957298696, 0.03328971937298775, -0.0009890334913507104, 0.03556232154369354, -0.01767396554350853, -0.0008658641017973423, 0.02580820582807064, -0.04592476040124893, -0.028355123475193977, -0.04644235596060753, 0.015549294650554657, -0.010017571039497852, 0.011946024373173714, -0.02052432857453823, 0.009030066430568695, 0.044126540422439575, -0.0022043215576559305, -0.010651913471519947, 0.003563549602404237, 0.03453190252184868, 0.05703112110495567, -0.03260476514697075, -0.06252080202102661, -0.004666486755013466, 0.06583420187234879, -0.04013092443346977, 0.026179691776633263, 0.016237683594226837, 0.02304164133965969, 0.047105107456445694, 0.03291107341647148, 0.0073496089316904545, -0.03387392684817314, 0.0712946355342865, -0.048261821269989014, -0.03599277883768082, -0.0071835629642009735, -0.0041691274382174015, -0.02359290048480034, -0.05080182105302811, -0.027137530967593193, -0.056083787232637405, 0.054181475192308426, -0.013569960370659828, 0.06404398381710052, -0.010531467385590076, 0.04212778061628342, -0.0035836342722177505, 0.008105800487101078, 0.01769840717315674, 0.0011329588014632463, 0.00968273263424635, -0.027607260271906853, 0.015616233460605145, -0.03527010232210159, 0.021478109061717987, -0.04266685992479324, -0.03068908490240574, 0.03424684330821037, 0.04064374789595604, -0.05651925504207611, 0.05891815572977066, 0.004409717861562967, -0.03218743950128555, 0.0030879126861691475, -0.01702076382935047, 0.014347070828080177, 0.006198744755238295, 0.0013484847731888294, -0.009222344495356083, -0.01342551875859499, -0.01628853566944599, 0.05599258467555046, -0.03669540211558342, -0.029333019629120827, -0.020085517317056656, 0.00542986998334527, 0.06046712398529053, 0.006174332462251186, -0.060635197907686234, 0.02548733353614807, -0.05307752266526222, -0.02928479202091694, -0.022256651893258095, 0.034573446959257126, -0.02435186877846718, -0.013641582801938057, 0.037138987332582474, 0.027431484311819077, -0.004776935093104839, 0.02922988310456276, -0.07614877074956894, 0.03133942186832428, 0.08479321002960205, -0.004324665293097496, 0.0015761269023641944, -0.0010509502608329058, -0.05287506803870201, 0.01624036207795143, 0.02322881855070591, 0.04177061840891838, -0.010703183710575104, -0.02645997516810894, 0.012968563474714756, -0.02880026213824749, 0.007717147469520569, 0.012003920041024685, -0.021957267075777054, -0.012228935956954956, 0.009869012050330639, -0.011239162646234035, 0.020388690754771233, -0.010391473770141602, -0.024282872676849365, 0.018034467473626137, -0.020364368334412575, -0.02907096967101097, -0.03917738050222397, -0.013851557858288288, -0.008263878524303436, -0.021416902542114258, 0.01389820221811533, -0.046810977160930634, -0.037463560700416565, 0.017651284113526344, 0.0007297503179870546, -0.012694724835455418, -0.011757894419133663, 0.012923203408718109, 0.025027990341186523, 0.05200031027197838, 0.01714211143553257, 0.010205104015767574, -0.03479165956377983, 0.019351886585354805, 0.07906240224838257, -0.034409668296575546, 0.024888446554541588, 0.04496891796588898, 0.00506244320422411, -0.00012426615285221487, -0.013472000136971474, -0.034421127289533615, 0.009654142893850803, -0.05843779817223549, 0.02402905747294426, -0.03512207791209221, -0.04781178757548332, -0.032282937318086624, 0.04051196202635765, -0.0016379018779844046, 0.010191316716372967, -0.007725750096142292, -0.031044812873005867, -0.030149046331644058, 0.00777469202876091, -0.020822281017899513, 0.01953115500509739, -0.004348002374172211, -0.038359444588422775, -0.03766804188489914, 0.025333106517791748, -0.0019994794856756926, -0.04064863920211792, 0.07120534032583237, -0.028181320056319237, 0.014869562350213528, 0.0386650376021862, -0.040649477392435074, -0.007995649240911007, 0.04196638613939285, -0.022611426189541817, 0.07941191643476486, 0.011064940132200718, -0.0003276758943684399, -0.02140815742313862, 0.02987019345164299, -0.001258776756003499, 0.011521298438310623, 0.03303999453783035, -0.07140158861875534, -0.06970507651567459, -0.027411609888076782, 0.03847678750753403, 0.006101097911596298, -0.005858892574906349, -0.04236508905887604, 0.020938370376825333, -0.01874890923500061, -0.0615825355052948, -0.0018814204959198833, -0.008993717841804028, -0.0031292447820305824, -0.004079535137861967, 0.0027696669567376375, -0.02172580547630787, 0.0005313243600539863, -0.000664244988001883, 0.02347937785089016, 0.034073516726493835, 0.026348959654569626, 0.010778977535665035, -0.03495973348617554, -0.02399136684834957, 0.05405351147055626, -0.008129226975142956, -0.03323648124933243, -0.02530684322118759, -0.02288144640624523, -0.00978986918926239, 0.033160559833049774, 0.020583536475896835, -0.036428485065698624, -0.01022038422524929, -0.01973336935043335, 0.003980336710810661, 0.01058303564786911, 0.003613745793700218, 0.02470475062727928, -0.044420674443244934, 0.020150931552052498, -0.04754726588726044, 0.020613856613636017, 0.06214405968785286, -0.011738317087292671, 0.035136882215738297, 0.00651549780741334, -0.0021633771248161793, -0.017438802868127823, -0.03088628500699997, 0.04406542330980301, -0.00028231454780325294, -0.03066234663128853, -0.06856149435043335, -0.008950326591730118, 0.05525678023695946, -0.028397144749760628, -0.019313061609864235, -0.012709645554423332, 0.00964441429823637, -0.035019658505916595, 0.01892462559044361, -0.0011536100646480918, 0.05636025220155716, -0.006250432226806879, 0.01408922765403986, -0.018221404403448105, 0.07162648439407349, -0.010142572224140167, -0.05146075412631035, -0.006697331089526415, -0.0631190836429596, 0.002091485308483243, 0.0445152148604393, 0.026499129831790924, 0.0033026624005287886, -0.022038739174604416, -0.03519752249121666, -0.04000964015722275, -0.007756786420941353, 0.02123470976948738, 0.036283329129219055, -0.03420243784785271, 0.013251863420009613, 0.023967253044247627, 0.01926567032933235, -0.020583298057317734, 0.002226524753496051, 0.02258182130753994, 0.024395201355218887, -0.0416732095181942, -0.021149538457393646, -0.004388350062072277, 0.01677037961781025, 0.032873112708330154, -0.016065070405602455, 0.08412663638591766, -0.0006061705062165856, 0.020852362737059593, -0.009804164059460163, -0.0401853583753109, -0.012731490656733513, -0.021631622686982155, -0.03617541864514351, -0.019501371309161186, 0.041869934648275375, -0.03155906870961189, -0.0022218693047761917, 0.03293900564312935, -0.052190352231264114, 0.039390817284584045, 0.013015417382121086, -0.10223200917243958, -0.020819207653403282, -0.015111885964870453, -0.0483938492834568, 0.03123604692518711, 0.03227434307336807, 0.05005025118589401, 0.001680278917774558, 0.027188144624233246, -0.01890110783278942, 0.041736237704753876, -0.07953988760709763, -0.03651208057999611, 0.03993038088083267, -0.011173687875270844, -0.0053530242294073105, 0.021671731024980545, 0.007732196245342493, -0.040666189044713974, -0.10119108855724335, -0.001731370110064745, 0.04211440682411194, -0.007190844044089317, 0.043947961181402206, 0.06553994864225388, -0.02525981329381466, -0.03918645530939102, -0.003338175592944026, -0.06282591074705124, 0.00975298322737217, 0.008143313229084015, 0.01924433372914791, 0.0398845411837101, -1.0027240023191553e-05, 0.009419159963726997, -0.0025657201185822487, 0.007246591150760651, -0.03678755834698677, -0.013112764805555344, -0.012229890562593937, -0.001653539715334773, -0.03525932505726814, -0.027396926656365395, -0.02751331403851509, -0.07336311042308807, -0.04723689705133438, 0.016514506191015244, 0.021269207820296288, 0.01075517013669014, 0.0008869332959875464, 0.012412648648023605, 0.03339434787631035, 0.035258639603853226, 0.010456053540110588, 0.01693338342010975, 0.049225155264139175, 0.027303695678710938, 0.023537276312708855, -0.010250181891024113, 0.024286454543471336, 0.003332326654344797, -0.0023803652729839087, 0.021566204726696014, 0.03839191421866417, -0.04201795533299446, -0.014782300218939781, -0.026709701865911484, 0.02304188162088394, 0.018555527552962303, 0.027734987437725067, -0.02413652092218399, 0.020942607894539833, -0.02825031615793705, 0.0010287470649927855, -0.003095910418778658, 0.015894608572125435, -0.006015149876475334, -0.015692392364144325, -0.03234238550066948, 0.03911960870027542, -0.044260237365961075, 0.04422394931316376, 0.009352908469736576, -0.01721963658928871, -0.0014471455942839384, -0.0023644589819014072, -0.020046601071953773, -0.009138158522546291, -0.03356260433793068, -0.04572660103440285, 0.052118729799985886, 0.0016666705487295985, -0.03257038816809654, 0.022662995383143425, 0.005153524223715067, -0.01837253011763096, 0.08873248100280762, 0.06035252660512924, -0.0019551326986402273, -0.04069340601563454, 0.03679764270782471, -0.0342349074780941, 0.018579281866550446, -0.007567223627120256, -0.02704537659883499, 0.009807118214666843, 0.016221895813941956, 0.010840878821909428, -0.021053383126854897, 0.01767408475279808, 0.0011479996610432863, -0.019393637776374817, 0.018984012305736542, 0.04101045802235603, 0.008748588152229786, -0.03439343348145485, 0.011633269488811493, 0.019804755225777626, -0.007866131141781807, -0.0009919805452227592, -0.006620246917009354, -0.019878527149558067, -0.022934922948479652, -0.00926672201603651, 0.020463209599256516, 0.017488418146967888, 0.03820951282978058, -0.02072773687541485, -0.007287655025720596, -0.024072060361504555, 0.0026444459799677134, -0.009032752364873886, 0.04972365126013756, -0.017915096133947372, 0.06057121604681015, 0.0405535027384758, 0.019766762852668762, 0.029518404975533485, 0.008361374959349632, -0.03528251498937607, -0.05402103811502457, 0.004224452190101147, -0.05258380249142647, -0.01782258413732052, 0.033924538642168045, -0.04161841794848442, -0.03187659755349159, 0.010297497734427452, -0.004552575759589672, 0.02669907920062542, 0.014324091374874115, 0.0018753325566649437, 0.012686309404671192, 0.001756796264089644, 0.05357984080910683, -0.044097889214754105, 0.0422925129532814, 0.015270248986780643, 0.054226357489824295, -0.018826620653271675, -0.0011335555464029312, -0.004140832461416721, 0.03037346340715885, 0.03477029129862785, -0.0183543860912323, -0.0061782123520970345, 0.01896103471517563, -0.0063319033943116665, 0.02353631891310215, 0.031128453090786934, -0.052534617483615875, -0.049671124666929245, -0.006152756046503782, 0.055304527282714844, 0.014468352310359478, 0.0041455477476119995, -0.019387908279895782, 0.010305257514119148, 0.00467549916356802, 0.03171902522444725, 0.002848571864888072, -0.018716933205723763, -0.01618444174528122, -0.04934142529964447, -0.018556421622633934, -0.051444996148347855, 0.0043111201375722885, -0.03873809427022934, -0.042302537709474564, -0.016474517062306404, 0.02068321220576763, 0.009623643942177296, -0.027366966009140015, 0.07853525131940842, -0.01308363862335682, -0.03331240266561508, 0.025994068011641502, 0.04170186072587967, 0.014664093032479286, -0.009666438214480877, -0.03848263621330261, 0.06900078058242798, 0.023627713322639465, -0.005096583627164364, -0.01907324232161045, -0.025891050696372986, 0.036251574754714966, 0.024383382871747017, -0.018395211547613144, -0.030819080770015717, 0.007149750366806984, 0.02936548925936222, 0.013282272964715958, 0.012875883840024471, 0.011214273981750011, 0.0020394690800458193, 0.02545056864619255, 0.006486072205007076, 0.024257564917206764, -0.024274038150906563, 0.005835435818880796, 0.0010729444911703467, 0.010310390032827854, -0.018728377297520638, 0.05628623813390732, -0.029906481504440308, -0.017007244750857353, -0.07040268182754517, -0.0198419988155365, 0.06200845167040825, 0.03923993557691574, 2.617229074530769e-05, 0.04101045802235603, 0.06304555386304855, -0.020804613828659058, -0.01587694138288498, 0.052506450563669205, 0.04446173831820488, -0.025387538596987724, -0.005609166342765093, 0.015359464101493359, -0.06865078210830688, 0.008599686436355114, -0.018468743190169334, 0.03682050481438637, -0.024453096091747284, -0.05078081041574478, -0.02013162523508072, 0.018657829612493515, 0.01037646271288395, 0.0032576594967395067, -0.022917496040463448, -0.013151202350854874, -0.01778426580131054, -0.0003869440406560898, 0.018572119995951653, 0.010258463211357594, 0.011061358265578747, -0.024700434878468513, 0.0038008014671504498, 0.016378303989768028, 0.007390135433524847, 0.04692366346716881, 0.013340526260435581, 0.014340625144541264, 0.012027913704514503, 0.02880873903632164, -0.010668461211025715, 0.013489980250597, -0.01415914949029684, -0.0675329864025116, -0.004148367792367935, 0.05772431567311287, 0.011187415570020676, 0.022843962535262108, -0.016992293298244476, -0.01633741892874241, -0.014986426569521427, 0.06233290582895279, -0.02275574766099453, -0.02317199669778347, 0.011296343058347702, 0.031502723693847656, -0.0063718934543430805, 0.014652722515165806, 0.009971791878342628, -0.011851034127175808, -0.024130314588546753, 0.01467176154255867, -0.052755217999219894, -0.007699905429035425, 0.052426233887672424, -0.03634969890117645, 0.032197944819927216, 0.02411646582186222, 0.030775032937526703, -0.014530784450471401, -0.06764471530914307, -0.04130876809358597, 0.047282733023166656, -0.019728923216462135, 0.003712704870849848, 0.04736008867621422, -0.005085362587124109, -0.01949617825448513, -0.03908069059252739, -0.016585294157266617, 0.03524145111441612, 0.010989975184202194, -0.006358464248478413, -0.062740758061409, 0.014461309649050236, 0.03731339052319527, 0.036483876407146454, -0.0037575140595436096, 0.03620072454214096, -0.014144973829388618, 0.013748002238571644, 0.028421854600310326, 0.02015666291117668, -0.03422249108552933, -0.015972886234521866, 0.030568279325962067, 0.06392604112625122, 0.03822121024131775, 0.024055229499936104, -0.012089993804693222, 0.01871870830655098, -0.009547485038638115, -0.01868337392807007, 0.002393167931586504, 0.003443342400714755, 0.005711468402296305, 0.014327135868370533, 0.038434889167547226, 0.009095900692045689, 0.013098142109811306, -0.037374865263700485, -0.027239713817834854, -0.04554849863052368, 0.026705047115683556, -0.059271492063999176, 0.046037446707487106, -0.021691666916012764, -0.01238089520484209, 0.011897559277713299, 0.0324457623064518, -0.03802615776658058, 0.006318951956927776, 0.030784105882048607, 0.01635347306728363, -0.015486116521060467, -0.05094745010137558, -0.0688365250825882]\n",
      "[-0.024528151378035545, 0.024801619350910187, 0.001089152880012989, 0.030356580391526222, -0.08052637428045273, -0.04757068678736687, 0.00817028060555458, 0.007540177088230848, -0.02138308435678482, 0.02875256910920143, -0.015345833264291286, 0.03736797720193863, -0.013723543845117092, 0.0016359082655981183, -0.042654793709516525, -0.01892743445932865, 0.004881788045167923, 0.013864968903362751, -0.024116072803735733, -0.027246616780757904, 0.010732943192124367, -0.01440866757184267, -0.013858401216566563, 0.028970470651984215, 0.025061773136258125, -0.0019942380022257566, 0.031958650797605515, 0.01990424655377865, 0.029823198914527893, 0.01673109084367752, -0.016183428466320038, 0.0030996124260127544, 0.015605257824063301, 0.052204765379428864, 0.06557240337133408, -0.0006836107932031155, 0.015916133299469948, -0.03080182895064354, 0.014220846816897392, -0.01419825479388237, -0.065026193857193, -0.022937944158911705, -0.011259542778134346, -0.02768895961344242, -0.006667111534625292, -0.03473135083913803, 0.006219683680683374, 0.0007800934254191816, 0.00018863759760279208, 0.015547756105661392, 0.058787379413843155, -0.03645084798336029, 0.041389986872673035, 0.051346227526664734, -0.03603150695562363, 0.023583905771374702, -0.009467652067542076, -0.010209732688963413, -0.0009523580083623528, -0.04356514662504196, -0.02780105732381344, -0.03673315420746803, 0.05283426120877266, -0.044432882219552994, 0.015018857084214687, -0.026193417608737946, -0.06385628879070282, -0.05372233688831329, 0.029947403818368912, -0.009929122403264046, -0.007370333652943373, 0.00239959848113358, 0.040266573429107666, -0.006186937913298607, -0.003430961398407817, 0.004827161319553852, -0.021457653492689133, -0.0036174352280795574, 0.049891844391822815, 0.039075370877981186, 0.03446356952190399, -0.04816967993974686, -0.02946680784225464, -0.0013540867948904634, -0.0027431591879576445, -0.006012675818055868, 0.030686821788549423, 0.018827805295586586, -0.018691010773181915, -0.02135566435754299, 0.0011199618456885219, -0.021419521421194077, -0.005355818197131157, -0.02887653186917305, 0.0345037616789341, 0.03431987762451172, -0.09613502025604248, -0.002819667337462306, -0.009808307513594627, -0.013848958536982536, -0.02362215891480446, 0.016379110515117645, -0.036799006164073944, 0.06233774870634079, -0.01108897291123867, 0.022451112046837807, -0.0338621586561203, -0.031762536615133286, -0.02050178498029709, 0.00011581404396565631, -0.01990812085568905, 0.021139515563845634, 0.009455304592847824, -0.027333050966262817, -0.0017619894351810217, 0.06300017237663269, 0.04673733189702034, 0.046440981328487396, -0.025132590904831886, 0.011998855508863926, -0.010451908223330975, 0.0060845836997032166, 0.03331739827990532, -0.004163222387433052, -0.02935010753571987, 0.0032499053049832582, 0.035950154066085815, 0.006771160289645195, -0.0021416479721665382, 0.0308725256472826, -0.006378510966897011, -0.030640095472335815, -0.005542004480957985, -0.06597721576690674, 0.02703576348721981, -0.039404645562171936, 0.02309241145849228, 0.050619397312402725, 0.040068041533231735, 0.03248537331819534, 0.01652129925787449, 0.0031351428478956223, 0.015116428956389427, 0.006631097290664911, -0.029250357300043106, 0.023129213601350784, 0.01567547209560871, 0.06332557648420334, -0.060057997703552246, 0.010856663808226585, -0.04466047137975693, -0.026703311130404472, -0.000542488181963563, -0.020870767533779144, 0.0064622825011610985, -0.00613887794315815, -0.06560532748699188, -0.017902564257383347, -0.016962068155407906, -0.009054785594344139, -0.01890823245048523, 0.031489431858062744, -0.009435208514332771, 0.015286152251064777, -0.0037309869658201933, 0.018868722021579742, -0.0006681759841740131, 0.06409066170454025, 0.06148744374513626, 0.0193350650370121, -0.015263635665178299, -0.044174790382385254, -0.03178626671433449, -0.03214846923947334, 0.008890935219824314, -0.03213200718164444, 0.016281001269817352, -1.1500446817080956e-05, -0.04148973524570465, -0.026001177728176117, 0.05115392804145813, -0.01786927320063114, 0.02794075943529606, 0.016982709988951683, -0.04151201248168945, -0.014064954593777657, -0.021351607516407967, 0.008625577203929424, -0.02747274935245514, 0.023203302174806595, 0.08588291704654694, -0.04627622291445732, 0.022873541340231895, 0.002408072352409363, -0.040401190519332886, 0.0011465037241578102, 0.006656239274889231, 0.0338418185710907, 0.04818081855773926, -0.014386332593858242, -0.0063170138746500015, 0.007908493280410767, -0.013419870287179947, -0.01856677606701851, 0.014550667256116867, -0.017241952940821648, 0.020434310659766197, 0.04055226966738701, -0.041597720235586166, -0.03957218676805496, -0.046781398355960846, -0.030352948233485222, 0.00011573080701055005, 0.0358688049018383, -0.028505612164735794, -0.009275472722947598, -0.0036840166430920362, -0.05822760984301567, 0.07214823365211487, 0.03400815278291702, -0.012394515797495842, 0.010364384390413761, 0.016571296378970146, -0.0066542793065309525, -0.038732536137104034, -0.04004189372062683, 0.03637046366930008, -0.03413332626223564, 0.024046828970313072, 0.04255794733762741, 0.016397858038544655, -0.02822136878967285, -0.00906235259026289, -0.026073811575770378, 0.021160822361707687, 0.01879584603011608, 0.008721817284822464, 0.009815086610615253, -0.011322553269565105, -0.015182405710220337, -0.02303333766758442, -0.035551149398088455, 0.04819534718990326, -0.006947964895516634, 0.01158784981817007, 0.01965619996190071, 0.0597519613802433, 0.033025648444890976, 0.05229289084672928, -0.025808455422520638, -0.025659313425421715, 0.02728462778031826, -0.05182803049683571, 0.01567280851304531, -0.04170861095190048, -0.011830932460725307, -0.04922866076231003, -0.006197408773005009, 0.03491584211587906, 0.02118745446205139, 0.014748657122254372, -0.01811889372766018, -0.03569835424423218, 0.027105826884508133, 0.051684703677892685, 0.04058343917131424, 0.05751470476388931, 0.026244262233376503, -0.02085236646234989, -0.025571666657924652, -0.023931097239255905, 0.008508393540978432, -0.02203630842268467, 0.03319065272808075, 0.010788628831505775, -0.010074451565742493, 0.009892381727695465, 0.02209671586751938, 0.0252317376434803, 0.04459364712238312, 0.01809631660580635, 0.018841424956917763, 0.014601788483560085, -0.04692182317376137, 0.03673751279711723, 0.027326999232172966, 0.01779688149690628, 0.019280558452010155, 0.007542598061263561, 0.035197664052248, -0.04283395782113075, -0.009120731614530087, 0.07575913518667221, -0.05681172385811806, -0.023788735270500183, 0.014138557948172092, 0.005468613933771849, 0.003394931787624955, 0.038262832909822464, 0.009029485285282135, -0.036280881613492966, 0.036329787224531174, 0.06979487836360931, 0.0311930850148201, 0.03027474507689476, -0.0011673558037728071, -0.043140958994627, 0.004505088087171316, -0.006653916090726852, -0.03511001542210579, -0.03407860919833183, -0.027592355385422707, -0.0004722143930848688, -0.023273514583706856, 0.005335723049938679, 0.015422219410538673, -0.025917891412973404, -0.04287814348936081, 0.0074702063575387, -0.02461032010614872, 0.06160946935415268, 0.03823571652173996, -0.04984753578901291, -0.030620725825428963, -0.011766651645302773, -0.0018302053213119507, -0.0044779409654438496, -0.011485435999929905, 0.05323714017868042, 0.002445115940645337, -0.005468401592224836, -0.023985331878066063, -0.028571952134370804, 0.04752626270055771, -0.03934847563505173, 0.03682854771614075, -0.0278876144438982, -0.005145784001797438, -0.03001108206808567, 0.05681172385811806, -0.04814789071679115, 0.02889009192585945, 0.016301458701491356, 0.01631973870098591, -0.0225820355117321, 0.02707519941031933, -0.00985830370336771, -0.040203019976615906, -0.0001192414783872664, -0.0345381423830986, -0.05403127893805504, 0.010695615783333778, 0.08283226937055588, 0.026784420013427734, 0.008245214819908142, 0.033886611461639404, -0.014089137315750122, 0.03340891748666763, -0.009515590965747833, 0.03538699448108673, 0.04554080218076706, -0.022921964526176453, 0.04341793805360794, -0.01872660033404827, -0.054870929569005966, -0.0013322358718141913, 0.014331735670566559, 0.006098626181483269, 0.026905719190835953, -0.019082823768258095, 0.018229901790618896, -0.0106282290071249, -0.0046108318492770195, -0.018742460757493973, -0.026445457711815834, -0.0497710257768631, 0.006729637272655964, 0.007200066465884447, 0.0035600541159510612, 0.039533935487270355, 0.0034471077378839254, 0.03797616809606552, -0.020666908472776413, 0.00107405090238899, 0.015342443250119686, -0.04462851211428642, -0.028716251254081726, -0.04899626225233078, 0.01826380006968975, -0.006807750090956688, 0.005976600106805563, -0.020130867138504982, 0.013626456260681152, 0.04412684962153435, 0.004248870071023703, -0.015667179599404335, 0.007264907471835613, 0.03314259275794029, 0.055515922605991364, -0.03510565683245659, -0.05653038248419762, -0.0024598243180662394, 0.06442247331142426, -0.04074935242533684, 0.023878799751400948, 0.010971426032483578, 0.028212957084178925, 0.04465950280427933, 0.032766345888376236, -0.00044706472544930875, -0.035886235535144806, 0.0770505741238594, -0.05086659640073776, -0.04063132032752037, 0.0002646313514560461, -0.0038325239438563585, -0.016905101016163826, -0.0550917387008667, -0.033373087644577026, -0.05269916355609894, 0.05515372380614281, -0.0175889041274786, 0.06498309224843979, -0.004261793103069067, 0.03864537179470062, -0.007437762338668108, 0.004831110592931509, 0.020141882821917534, 0.002675843657925725, 0.011965245939791203, -0.024286946281790733, 0.01652541570365429, -0.03529644384980202, 0.028851836919784546, -0.04017535597085953, -0.03748322278261185, 0.038667649030685425, 0.043241679668426514, -0.05852976813912392, 0.053676821291446686, 0.015910081565380096, -0.03864343836903572, 0.0068531520664691925, -0.021390104666352272, 0.007542923558503389, 0.007084517274051905, -0.0029177237302064896, -0.004078996367752552, -0.012041451409459114, -0.015250075608491898, 0.055055905133485794, -0.03446478024125099, -0.02536393329501152, -0.018423957750201225, 0.0030512502416968346, 0.060970284044742584, 0.004957055673003197, -0.06473952531814575, 0.035419438034296036, -0.058663416653871536, -0.021682336926460266, -0.02422260493040085, 0.03401130065321922, -0.025261277332901955, -0.013592801988124847, 0.040123242884874344, 0.02775106206536293, -0.0033632072154432535, 0.033555153757333755, -0.07691498845815659, 0.03377209231257439, 0.08173549175262451, -0.00511297769844532, 0.003562717232853174, -0.003719849744811654, -0.06112136319279671, 0.020341355353593826, 0.02940579503774643, 0.03908989578485489, -0.009877067990601063, -0.022189809009432793, 0.01673496514558792, -0.03539377450942993, 0.018244188278913498, 0.01935277134180069, -0.015753917396068573, -0.008327292278409004, 0.013298874720931053, -0.013149663805961609, 0.02191585674881935, -0.01199548039585352, -0.018867995589971542, 0.02458583563566208, -0.0136119294911623, -0.02809767797589302, -0.041199926286935806, -0.01036141812801361, -0.006224768236279488, -0.021367350593209267, 0.019619034603238106, -0.04261218383908272, -0.04161914810538292, 0.014464051462709904, 0.003480882616713643, -0.01553801167756319, -0.015637217089533806, 0.0076533653773367405, 0.023201849311590195, 0.055517859756946564, 0.015397675335407257, 0.01573067530989647, -0.038328688591718674, 0.0248872097581625, 0.0743030533194542, -0.028597131371498108, 0.02344590052962303, 0.045242831110954285, 0.005697321146726608, 0.0030548665672540665, -0.013436168432235718, -0.03027111291885376, 0.009265970438718796, -0.054337311536073685, 0.016894035041332245, -0.03198274224996567, -0.04999183490872383, -0.026115939021110535, 0.0411800742149353, -0.0043952283449471, 0.0070267729461193085, -0.009743178263306618, -0.0325249582529068, -0.0325138233602047, 0.00377674656920135, -0.022529253736138344, 0.018614986911416054, 0.00013606844004243612, -0.034159474074840546, -0.03536617383360863, 0.02230844646692276, -0.004221027251332998, -0.04067792743444443, 0.06623095273971558, -0.023794544860720634, 0.01819346472620964, 0.03776117041707039, -0.03763817995786667, -0.006634063087403774, 0.042121171951293945, -0.022076498717069626, 0.07402123510837555, 0.012128673493862152, 0.0030543520115315914, -0.014452913776040077, 0.020870767533779144, -0.0003722512919921428, 0.012823512777686119, 0.029636923223733902, -0.07185043394565582, -0.0590924434363842, -0.03066430613398552, 0.038881316781044006, 0.014466836117208004, -0.0042830766178667545, -0.035950638353824615, 0.02362554892897606, -0.017482858151197433, -0.05734873563051224, -0.005149809177964926, -0.012018178589642048, -0.007279056590050459, -0.007258476689457893, 0.00043606365215964615, -0.008995739743113518, -0.0001882441429188475, -0.001196258352138102, 0.02446804754436016, 0.04256375879049301, 0.026536010205745697, 0.012075711973011494, -0.03676317632198334, -0.025200746953487396, 0.05636041983962059, -0.01227854285389185, -0.03610171750187874, -0.02047134004533291, -0.02210046909749508, -0.004431803245097399, 0.036476027220487595, 0.025200264528393745, -0.030587313696742058, -0.008045349270105362, -0.020471762865781784, -9.829855116549879e-05, 0.017965393140912056, -0.0011869671288877726, 0.021206822246313095, -0.0378328375518322, 0.017672192305326462, -0.04188390076160431, 0.025919826701283455, 0.05989529564976692, -0.014010448940098286, 0.03339863568544388, 0.009039511904120445, -0.005893071182072163, -0.015032658353447914, -0.025875519961118698, 0.03666148707270622, 0.0030923488084226847, -0.02377033419907093, -0.07155166566371918, -0.011623924598097801, 0.04931391775608063, -0.028372934088110924, -0.01500178873538971, -0.007997410371899605, 0.016781695187091827, -0.03636853024363518, 0.017705300822854042, -0.0092916339635849, 0.053469087928533554, -0.0050013624131679535, 0.012829171493649483, -0.016254369169473648, 0.07362125813961029, -0.008744697086513042, -0.044366057962179184, -0.01035839132964611, -0.0684080496430397, 0.001607134472578764, 0.0451185517013073, 0.024179507046937943, -0.009476488456130028, -0.02070080302655697, -0.03997700661420822, -0.040057387202978134, -0.010630498640239239, 0.02084461972117424, 0.034275688230991364, -0.03898433595895767, 0.018739674240350723, 0.03013286553323269, 0.015147177502512932, -0.013175154104828835, 0.0014715729048475623, 0.02529033087193966, 0.03359679877758026, -0.0438227541744709, -0.014452792704105377, -0.009545370936393738, 0.019200904294848442, 0.030284186825156212, -0.017152370885014534, 0.08569648861885071, -0.005955899599939585, 0.027993297204375267, -0.005255341064184904, -0.03991115093231201, -0.01605910249054432, -0.021142421290278435, -0.03683919832110405, -0.016379723325371742, 0.03878192603588104, -0.030189277604222298, -0.0023899138905107975, 0.02961740270256996, -0.053551409393548965, 0.0424727238714695, 0.015627291053533554, -0.09857359528541565, -0.015501633286476135, -0.0081290602684021, -0.0471491664648056, 0.0318434052169323, 0.037818312644958496, 0.04708452150225639, 0.002366368193179369, 0.024197060614824295, -0.020853819325566292, 0.03876449540257454, -0.08476531505584717, -0.03758152201771736, 0.035412661731243134, -0.006009346805512905, -0.002081459853798151, 0.025207282975316048, 0.006111064925789833, -0.038336437195539474, -0.0976051390171051, -0.0003002221928909421, 0.043150644749403, -0.007599646225571632, 0.04739443212747574, 0.05743928253650665, -0.028519656509160995, -0.03772340342402458, -0.006330450996756554, -0.06602079421281815, 0.013758892193436623, 0.013515929691493511, 0.02323828637599945, 0.04021912068128586, 0.006867098156362772, 0.008005606941878796, -0.005398884881287813, 0.009125967510044575, -0.031900059431791306, -0.010656798258423805, -0.012235507369041443, -0.0031168630812317133, -0.03079577349126339, -0.027523353695869446, -0.029413722455501556, -0.0729985386133194, -0.042333267629146576, 0.012155367061495781, 0.018423957750201225, 0.005974663887172937, 0.001398877939209342, 0.02186858281493187, 0.024878915399312973, 0.03523882105946541, 0.0070857275277376175, 0.017827387899160385, 0.045304495841264725, 0.022921480238437653, 0.026039432734251022, -0.013163277879357338, 0.027898387983441353, 0.0007994929328560829, 0.006967242807149887, 0.020212579518556595, 0.0391799621284008, -0.035947248339653015, -0.01924956776201725, -0.02144918031990528, 0.01930924877524376, 0.014614162035286427, 0.03371719270944595, -0.023207658901810646, 0.0114479074254632, -0.034548792988061905, 0.003184231463819742, 0.0010002362541854382, 0.016278579831123352, -0.01200949214398861, -0.02310016006231308, -0.030722353607416153, 0.03678690269589424, -0.04110138490796089, 0.0451534166932106, 0.0021469518542289734, -0.01600607857108116, 0.0031849578954279423, -0.002010247902944684, -0.01945342868566513, -0.012098469771444798, -0.03298231214284897, -0.03865263611078262, 0.055278655141592026, -0.003880492877215147, -0.03972230106592178, 0.029437270015478134, 0.009013747796416283, -0.011461949907243252, 0.0829814150929451, 0.059242550283670425, -0.004104917868971825, -0.04018134996294975, 0.032164450734853745, -0.04239960387349129, 0.01180986873805523, -0.007878653705120087, -0.0278795026242733, 0.00708533450961113, 0.014169275760650635, 0.010966463014483452, -0.02270793542265892, 0.01784481853246689, 0.002209235681220889, -0.008485029451549053, 0.015559378080070019, 0.04103456437587738, -0.0009042982710525393, -0.03682370111346245, 0.00833031814545393, 0.02336103841662407, -0.0068906135857105255, -0.002113782102242112, -0.01035645417869091, -0.023125525563955307, -0.0143534354865551, -0.0009151328704319894, 0.021872639656066895, 0.021309208124876022, 0.039528608322143555, -0.015392924658954144, -0.006755241192877293, -0.027165750041604042, -0.0030098031274974346, -0.007886764593422413, 0.05492032319307327, -0.008946319110691547, 0.05870215222239494, 0.03902840241789818, 0.02649254910647869, 0.03347671031951904, 0.002552372869104147, -0.035289663821458817, -0.06312219798564911, 0.004062351305037737, -0.05145033448934555, -0.020595604553818703, 0.031955745071172714, -0.03808391094207764, -0.03174946457147598, 0.013110509142279625, -0.0008164106402546167, 0.022047748789191246, 0.011195987462997437, 0.0018749359296634793, 0.01738782785832882, -0.004890231881290674, 0.049745846539735794, -0.03477589786052704, 0.04319712892174721, 0.01912173256278038, 0.05231758952140808, -0.016482925042510033, 0.002316189929842949, -0.0033674517180770636, 0.03148410841822624, 0.0358349084854126, -0.010654376819729805, -0.012851378880441189, 0.019558990374207497, -0.002113176742568612, 0.023210080340504646, 0.03928576782345772, -0.053655512630939484, -0.0471397265791893, -0.006168113090097904, 0.05657154694199562, 0.011628283187747002, 0.008271506987512112, -0.020148539915680885, 0.005223654210567474, 0.00132308853790164, 0.034365274012088776, 0.0013128062710165977, -0.015132257714867592, -0.016673225909471512, -0.05697418004274368, -0.019994312897324562, -0.05476149544119835, 0.006705456878989935, -0.039457425475120544, -0.040190067142248154, -0.013767366297543049, 0.016764989122748375, 0.013374898582696915, -0.02234470285475254, 0.08114618062973022, -0.019963443279266357, -0.03412654623389244, 0.02377469092607498, 0.040999699383974075, 0.012214806862175465, -0.005001756362617016, -0.04096095636487007, 0.06959344446659088, 0.022150950506329536, -0.004209405742585659, -0.022994598373770714, -0.031639546155929565, 0.039195701479911804, 0.019103875383734703, -0.022815434262156487, -0.02908475138247013, 0.006718318909406662, 0.02595469169318676, 0.012291677296161652, 0.014207771979272366, 0.013518835417926311, -0.0021892008371651173, 0.02066951058804989, 0.015988826751708984, 0.02722966857254505, -0.021860532462596893, 0.00267402408644557, -0.0006372457719407976, 0.009916774928569794, -0.030436234548687935, 0.05992821976542473, -0.022679274901747704, -0.011889766901731491, -0.07329101115465164, -0.023726509883999825, 0.061834633350372314, 0.03996054083108902, -0.0025227894075214863, 0.03957945108413696, 0.05868278443813324, -0.025606531649827957, -0.012681088410317898, 0.052348095923662186, 0.045308854430913925, -0.023535724729299545, 0.0024267833214253187, 0.021413104608654976, -0.06753837317228317, 0.009065378457307816, -0.023589473217725754, 0.03891484811902046, -0.021209245547652245, -0.05381530895829201, -0.015543277375400066, 0.019670847803354263, 0.010699168778955936, -0.0017745037330314517, -0.02463274449110031, -0.011555406264960766, -0.016686080023646355, 0.0034220488741993904, 0.017644105479121208, 0.008035059086978436, 0.011804663576185703, -0.013327322900295258, -0.0005242992774583399, 0.020190978422760963, 0.0033101311419159174, 0.050884753465652466, 0.013146583922207355, 0.0087938467040658, 0.008562021888792515, 0.023922866210341454, -0.011100715026259422, 0.0084657808765769, -0.009348531253635883, -0.06281761825084686, -0.005656237713992596, 0.0544390007853508, 0.01125155296176672, 0.029825622215867043, -0.016509557142853737, -0.015299906954169273, -0.017429593950510025, 0.06314761936664581, -0.019609592854976654, -0.023602791130542755, 0.00610118405893445, 0.03125603497028351, -0.0038993170019239187, 0.018148673698306084, 0.01426975429058075, -0.005868526641279459, -0.021688632667064667, 0.01288122683763504, -0.05218733474612236, -0.0031548752449452877, 0.06254112720489502, -0.036142878234386444, 0.0371830016374588, 0.03259783238172531, 0.032438524067401886, -0.012999802827835083, -0.06311057507991791, -0.04672570899128914, 0.038615837693214417, -0.014429156668484211, 0.004137946758419275, 0.04419367387890816, -0.001795038115233183, -0.024384094402194023, -0.04064354673027992, -0.017638659104704857, 0.03684864193201065, 0.020198900252580643, -0.004879457876086235, -0.07055993378162384, 0.022076742723584175, 0.03965995833277702, 0.034617312252521515, -0.0037024777848273516, 0.025510653853416443, -0.015124177560210228, 0.02050783857703209, 0.024112926796078682, 0.017411554232239723, -0.03027692250907421, -0.01173115149140358, 0.03378661721944809, 0.06851264089345932, 0.044035088270902634, 0.01922360248863697, -0.016975142061710358, 0.017849121242761612, -0.012604004703462124, -0.02053743787109852, 0.000881539483089, 0.008190860040485859, 0.012529917992651463, 0.010191393084824085, 0.04013873636722565, 0.012489092536270618, 0.014962747693061829, -0.02861553244292736, -0.03557729721069336, -0.04531611502170563, 0.02291264198720455, -0.05808040127158165, 0.046101540327072144, -0.025775255635380745, -0.007834709249436855, 0.013059665448963642, 0.035490136593580246, -0.04151201248168945, 0.008143647573888302, 0.03212135285139084, 0.011341135017573833, -0.0192519910633564, -0.05262507498264313, -0.07061032205820084]\n"
     ]
    }
   ],
   "source": [
    "#####################################################################\n",
    "# now we have created tokens of text in equal chunks\n",
    "# we are ready to create embeddings and store into vector database\n",
    "# this is code to create embedding of our text\n",
    "#####################################################################\n",
    "\n",
    "import voyageai\n",
    "\n",
    "vo = voyageai.Client()\n",
    "\n",
    "# Embed the documents\n",
    "doc_embds = vo.embed(\n",
    "    df.text[:2].tolist(), model=\"voyage-2\", input_type=\"document\"\n",
    "    # first embedding only 2 rows\n",
    "    # change df.text[:2] to df.text to run it for all chunks\n",
    ").embeddings\n",
    "\n",
    "print(result.embeddings[0])\n",
    "print(result.embeddings[1])"
   ]
  },
  {
   "cell_type": "code",
   "execution_count": 50,
   "metadata": {},
   "outputs": [
    {
     "name": "stdout",
     "output_type": "stream",
     "text": [
      ". 3. An Informal Introduction to Python In the following examples, input and output are distinguished by the presence or absence of prompts (>>> and …): to repeat the example, you must type everything after the prompt, when the prompt appears; lines that do not begin with a prompt are output from the interpreter. Note that a secondary prompt on a line by itself in an example means you must type a blank line; this is used to end a multi-line command. You can toggle the display of prompts and output by clicking on >>> in the upper-right corner of an example box. If you hide the prompts and output for an example, then you can easily copy and paste the input lines into your interpreter. Many of the examples in this manual, even those entered at the interactive prompt, include comments. Comments in Python start with the hash character, #, and extend to the end of the physical line. A comment may appear at the start of a line or following whitespace or code, but not within a string literal. A hash character within a string literal is just a hash character. Since comments are to clarify code and are not interpreted by Python, they may be omitted when typing in examples. Some examples: # this is the first comment spam = 1 # and this is the second comment   # ... and now a third! text = \"# This is not a comment because it's inside quotes.\" 3.1. Using Python as a Calculator Let’s try some simple Python commands. Start the interpreter and wait for the primary prompt, >>>. (It shouldn’t take long.) 3.1.1. Numbers The interpreter acts as a simple calculator: you can type an expression at it and it will write the value. Expression syntax is straightforward: the operators +, -, * and / can be used to perform arithmetic; parentheses (()) can be used for grouping. For example: >>> 2 + 2 4 50 - 5*6 20 (50 - 5*6) / 4 5.0 8 / 5 # division always returns a floating point number 1.6 The integer numbers (e.g. 2, 4, 20) have type int, the ones with a fractional part (e.g. 5.0, 1.6) have type float. We will see more about numeric types later in the tutorial. Division (/) always returns a float.\n"
     ]
    }
   ],
   "source": [
    "#####################################################################\n",
    "# now since we have created embeddings of all our text\n",
    "# we will need to create embedding of our query\n",
    "# and then perform a similarity search to query our vector/text database\n",
    "#####################################################################\n",
    "\n",
    "query = \"how are args and keyword arguments defined in python?\"\n",
    "\n",
    "import numpy as np\n",
    "\n",
    "# Embed the query\n",
    "query_embd = vo.embed(\n",
    "    [query], model=\"voyage-2\", input_type=\"query\"\n",
    ").embeddings[0]\n",
    "\n",
    "# Compute the similarity\n",
    "# Voyage embeddings are normalized to length 1, therefore dot-product\n",
    "# and cosine similarity are the same.\n",
    "# how to calculate distinace between embeddings\n",
    "similarities = np.dot(doc_embds, query_embd)\n",
    "\n",
    "retrieved_id = np.argmax(similarities)\n",
    "print(df.text.tolist()[retrieved_id])"
   ]
  },
  {
   "cell_type": "markdown",
   "metadata": {},
   "source": [
    "## Step 4: Using RAG and LLMs to query manual documments.\n",
    "---\n",
    "\n",
    "Retrieval-Augmented Generation using Pinecone\n",
    "\n",
    "This code below demonstrates how to connect Claude with the data in your Pinecone vector database through a technique called retrieval-augmented generation (RAG). We will cover the following steps:\n",
    "\n",
    "    Embedding a dataset using Voyage AI's embedding model\n",
    "    Uploading the embeddings to a Pinecone index\n",
    "    Retrieving information from the vector database\n",
    "    Using Claude to answer questions with information from the database"
   ]
  },
  {
   "cell_type": "code",
   "execution_count": null,
   "metadata": {},
   "outputs": [],
   "source": [
    "# %pip install anthropic datasets pinecone-client voyageai"
   ]
  },
  {
   "cell_type": "code",
   "execution_count": null,
   "metadata": {},
   "outputs": [],
   "source": [
    "############################################################\n",
    "# Insert your API keys here\n",
    "# we will assume that we have alreadys setup these API keys\n",
    "# as environment variables\n",
    "############################################################\n",
    "\n",
    "# ANTHROPIC_API_KEY=\"<YOUR_ANTHROPIC_API_KEY>\"\n",
    "# PINECONE_API_KEY=\"<YOUR_PINECONE_API_KEY>\"\n",
    "# VOYAGE_API_KEY=\"<YOUR_VOYAGE_API_KEY>\""
   ]
  },
  {
   "cell_type": "code",
   "execution_count": null,
   "metadata": {},
   "outputs": [],
   "source": [
    "# connecting to Pinecone Vector Database\n",
    "\n",
    "from pinecone import Pinecone\n",
    "pc = Pinecone(api_key=os.environ.get(\"PINECONE_API_KEY\"))\n",
    "\n",
    "from pinecone import ServerlessSpec\n",
    "\n",
    "spec = ServerlessSpec(\n",
    "    cloud=\"aws\", region=\"us-west-2\"\n",
    ")"
   ]
  },
  {
   "cell_type": "code",
   "execution_count": null,
   "metadata": {},
   "outputs": [],
   "source": [
    "import time\n",
    "\n",
    "index_name = 'manualify' # must be all lowercase\n",
    "existing_indexes = [\n",
    "    index_info[\"name\"] for index_info in pc.list_indexes()\n",
    "]\n",
    "\n",
    "# check if index already exists (it shouldn't if this is first time)\n",
    "if index_name not in existing_indexes:\n",
    "    # if does not exist, create index\n",
    "    pc.create_index(\n",
    "        index_name,\n",
    "        dimension=1024,  # dimensionality of voyage-2 embeddings\n",
    "        metric='dotproduct',\n",
    "        spec=spec\n",
    "    )\n",
    "    # wait for index to be initialized\n",
    "    while not pc.describe_index(index_name).status['ready']:\n",
    "        time.sleep(1)\n",
    "\n",
    "# connect to index\n",
    "index = pc.Index(index_name)\n",
    "time.sleep(1)\n",
    "# view index stats\n",
    "# index.describe_index_stats()\n",
    "print(index)"
   ]
  },
  {
   "cell_type": "code",
   "execution_count": null,
   "metadata": {},
   "outputs": [],
   "source": [
    "from tqdm.auto import tqdm\n",
    "from time import sleep\n",
    "\n",
    "descriptions = df[\"text\"][:2].tolist() # first run 2 sample rows\n",
    "# uncomment this to run it for all embedding\n",
    "# descriptions = df[\"text\"].tolist()\n",
    "\n",
    "batch_size = 100  # how many embeddings we create and insert at once\n",
    "\n",
    "for i in tqdm(range(0, len(descriptions), batch_size)):\n",
    "    # find end of batch\n",
    "    i_end = min(len(descriptions), i+batch_size)\n",
    "    descriptions_batch = descriptions[i:i_end]\n",
    "    # create embeddings (try-except added to avoid RateLimitError. Voyage currently allows 300/requests per minute.)\n",
    "    done = False\n",
    "    while not done:\n",
    "        try:\n",
    "            res = vo.embed(descriptions_batch, model=\"voyage-2\", input_type=\"document\")\n",
    "            done = True\n",
    "        except:\n",
    "            sleep(5)\n",
    "            \n",
    "    embeds = [record for record in res.embeddings]\n",
    "    # create unique IDs for each text\n",
    "    ids_batch = [f\"description_{idx}\" for idx in range(i, i_end)]\n",
    "    \n",
    "    # Create metadata dictionaries for each text\n",
    "    metadata_batch = [{'description': description} for description in descriptions_batch]\n",
    "\n",
    "    to_upsert = list(zip(ids_batch, embeds, metadata_batch))\n",
    "\n",
    "    # upsert to Pinecone\n",
    "    index.upsert(vectors=to_upsert)"
   ]
  },
  {
   "cell_type": "code",
   "execution_count": null,
   "metadata": {},
   "outputs": [],
   "source": [
    "USER_QUESTION = \"how are args and keyword arguments defined in python?\"\n",
    "\n",
    "question_embed = vo.embed([USER_QUESTION], model=\"voyage-2\", input_type=\"query\")\n",
    "results = index.query(\n",
    "            vector=question_embed.embeddings, top_k=5, include_metadata=True\n",
    "        )\n",
    "results"
   ]
  },
  {
   "cell_type": "code",
   "execution_count": null,
   "metadata": {},
   "outputs": [],
   "source": [
    "###############################\n",
    "# # optimizing search results\n",
    "###############################\n",
    "\n",
    "# import anthropic\n",
    "\n",
    "# client = anthropic.Anthropic()\n",
    "# def get_completion(prompt):\n",
    "#     completion = client.completions.create(\n",
    "#         model=\"claude-2.1\",\n",
    "#         prompt=prompt,\n",
    "#         max_tokens_to_sample=1024,\n",
    "#     )\n",
    "#     return completion.completion\n",
    "\n",
    "# def create_keyword_prompt(question):\n",
    "#     return f\"\"\"\\n\\nHuman: Given a question, generate a list of 5 very diverse search keywords that can be used to search for products on Amazon.\n",
    "\n",
    "# The question is: {question}\n",
    "\n",
    "# Output your keywords as a JSON that has one property \"keywords\" that is a list of strings. Only output valid JSON.\\n\\nAssistant:{{\"\"\"\n",
    "\n",
    "# With our Anthropic client setup and our prompt created, we can now begin to generate keywords from the question. We will output the keywords in a JSON object so we can easily parse them from Claude's output.\n",
    "\n",
    "# keyword_json = \"{\" + get_completion(create_keyword_prompt(USER_QUESTION))\n",
    "# print(keyword_json)\n",
    "\n",
    "# import json\n",
    "\n",
    "# # Extract the keywords from the JSON\n",
    "# data = json.loads(keyword_json)\n",
    "# keywords_list = data['keywords']\n",
    "# print(keywords_list)\n",
    "\n",
    "# results_list = []\n",
    "# for keyword in keywords_list:\n",
    "#     # get the embeddings for the keywords\n",
    "#     query_embed = vo.embed([keyword], model=\"voyage-2\", input_type=\"query\")\n",
    "#     # search for the embeddings in the Pinecone index\n",
    "#     search_results = index.query(vector=query_embed.embeddings, top_k=3, include_metadata=True)\n",
    "#     # append the search results to the list\n",
    "#     for search_result in search_results.matches:\n",
    "#             results_list.append(search_result['metadata']['description'])\n",
    "# print(len(results_list))\n",
    "\n",
    "# # Formatting search results\n",
    "# def format_results(extracted: list[str]) -> str:\n",
    "#         result = \"\\n\".join(\n",
    "#             [\n",
    "#                 f'<item index=\"{i+1}\">\\n<page_content>\\n{r}\\n</page_content>\\n</item>'\n",
    "#                 for i, r in enumerate(extracted)\n",
    "#             ]\n",
    "#         )\n",
    "    \n",
    "#         return f\"\\n<search_results>\\n{result}\\n</search_results>\"\n",
    "\n",
    "# def create_answer_prompt(results_list, question):\n",
    "#     return f\"\"\"\\n\\nHuman: {format_results(results_list)} Using the search results provided within the <search_results></search_results> tags,\n",
    "\n",
    "# answer = get_completion(create_answer_prompt(results_list, USER_QUESTION))\n",
    "# print(answer)"
   ]
  },
  {
   "cell_type": "markdown",
   "metadata": {},
   "source": [
    "## Step 5: Using SQL queries with Functional calling\n",
    "---\n",
    "\n",
    "This topic is covered in later blogs : [HelpDesk.ai app](./HelpDesk/src/HelpDesk.ipynb)."
   ]
  },
  {
   "cell_type": "markdown",
   "metadata": {},
   "source": [
    "## Step 6: build, host online Flutter product app with LLM\n",
    "---"
   ]
  }
 ],
 "metadata": {
  "kernelspec": {
   "display_name": "Scrapify",
   "language": "python",
   "name": "python3"
  },
  "language_info": {
   "codemirror_mode": {
    "name": "ipython",
    "version": 3
   },
   "file_extension": ".py",
   "mimetype": "text/x-python",
   "name": "python",
   "nbconvert_exporter": "python",
   "pygments_lexer": "ipython3",
   "version": "3.12.0"
  }
 },
 "nbformat": 4,
 "nbformat_minor": 2
}
