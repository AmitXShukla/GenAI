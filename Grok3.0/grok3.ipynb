{
 "cells": [
  {
   "cell_type": "markdown",
   "metadata": {},
   "source": [
    "## building with Grok 3.0\n",
    "\n",
    "Today is a big day, Grok 3.0 is released and suppose to be a game changer.\n",
    "`The smartest AI on earth.`\n",
    "\n",
    "Let's put Grok to test real life production use cases from my AI Agents applications."
   ]
  },
  {
   "cell_type": "markdown",
   "metadata": {},
   "source": [
    "## Prompt 1\n",
    "\n",
    "- Prompt: Is the garage camera showing the mailman arriving at our driveway?\n",
    "- Image: https://github.com/AmitXShukla/GoogleCommunity/blob/main/images/pic_2.png?raw=true\n",
    "- Answer:\n",
    "- Rating:\n",
    "\n",
    "![Prompt 1](https://github.com/AmitXShukla/GoogleCommunity/blob/main/images/pic_2.png?raw=true)"
   ]
  },
  {
   "cell_type": "markdown",
   "metadata": {},
   "source": [
    "## Prompt 2\n",
    "\n",
    "- Prompt: \n",
    "    - here is an alert image of home stats. Is my water faucet continuously dripping?\n",
    "    - here is an alert image of home stats. are noise levels look ok to you? is it safe to leave my dog at home?\n",
    "    - here is an alert image of home stats. is there anything I need to pay attention to, does indoor or outdoor temperature looks high to you?\n",
    "- Image: https://github.com/AmitXShukla/GoogleCommunity/blob/main/images/sensors.jpg?raw=true\n",
    "- Answer:\n",
    "- Rating:\n",
    "\n",
    "![Prompt 2](https://github.com/AmitXShukla/GoogleCommunity/blob/main/images/sensors.jpg?raw=true)"
   ]
  },
  {
   "cell_type": "markdown",
   "metadata": {},
   "source": [
    "## Prompt 3\n",
    "\n",
    "Prompt:\n",
    "- here is an alert image of my garage camera, what kind of car is this and, do you see it anyone trying to break into vehicle?\n",
    "- Image: https://github.com/AmitXShukla/GoogleCommunity/blob/main/images/pic_11.png?raw=true\n",
    "- Answer:\n",
    "- Rating:\n",
    "\n",
    "![Prompt 3](https://github.com/AmitXShukla/GoogleCommunity/blob/main/images/pic_11.png?raw=true)"
   ]
  },
  {
   "cell_type": "markdown",
   "metadata": {},
   "source": [
    "## Prompt 4\n",
    "write a CRON job which monitors a drive for file drop, as soon as file is dropped, this CRON job will call a python script for execution,.\n",
    ">> This python scripts at this point create another txt file with current data and time file name and write the current date and time in side this txt file.\n",
    "\n",
    "as soon as file is dropped, I want to test if this given file is a PDF file, if so, write a program to use PYPDF like package to read the content of this.\n",
    "\n",
    "Now since you have got this content of PDF file, convert this PDF content into token, Convert these token into equal number of chunks.\n",
    "\n",
    "Take Chunks of token and convert these into embeddings.\n",
    "\n",
    "Write a program to store these embedding into a ChromaDB vector database.\n",
    "\n",
    "Write another program to query Chroma DB Vector database for a given query text."
   ]
  },
  {
   "cell_type": "markdown",
   "metadata": {},
   "source": [
    "## Prompt 5\n",
    "\n",
    "Prompt: That was a trick question, here is an alert image of my garage camera, do you see my trash bins empty?\n",
    "- Image: https://github.com/AmitXShukla/GoogleCommunity/blob/main/images/pic_5.png?raw=true\n",
    "- Answer:\n",
    "- Rating:\n",
    "\n",
    "![Prompt 5](https://github.com/AmitXShukla/GoogleCommunity/blob/main/images/pic_5.png?raw=true)"
   ]
  },
  {
   "cell_type": "markdown",
   "metadata": {},
   "source": [
    "## Prompt 6\n",
    "\n",
    "Prompt:\n",
    "- here is an alert image of my garage camera, do you see a crack on windshield?\n",
    "- Image: https://github.com/AmitXShukla/GoogleCommunity/blob/main/images/pic_1.png?raw=true\n",
    "- Answer:\n",
    "- Rating:\n",
    "\n",
    "![Prompt 6](https://github.com/AmitXShukla/GoogleCommunity/blob/main/images/pic_1.png?raw=true)"
   ]
  },
  {
   "cell_type": "markdown",
   "metadata": {},
   "source": [
    "## Prompt 7\n",
    "\n",
    "Prompt:\n",
    "- wine vs beer vs vodka, explain this to me, what should I consume tonight. surprise me with a grocery list to support my alcoholic supported game night, and I am going to have 3 other friends, one is a vegan.\n",
    "- Image: NA\n",
    "- Answer:\n",
    "- Rating:"
   ]
  },
  {
   "cell_type": "markdown",
   "metadata": {},
   "source": [
    "## Prompt 8\n",
    "\n",
    "Prompt:\n",
    "- who should I vote for, Democrats or Republics and don't give me a democratic witty politically correct answer. I develop software and don't have time for politics, I just need to know what's good for me\n",
    "- Image: NA\n",
    "- Answer:\n",
    "- Rating:"
   ]
  },
  {
   "cell_type": "markdown",
   "metadata": {},
   "source": [
    "## Prompt 9\n",
    "\n",
    "Prompt: Received an Alert from Community camera, do you see many people on railroad tracks, is it unsafe to be there?\n",
    "- Image: https://github.com/AmitXShukla/GoogleCommunity/blob/main/images/hz_5.png?raw=true\n",
    "- Answer:\n",
    "- Rating:\n",
    "\n",
    "![Prompt 9](https://github.com/AmitXShukla/GoogleCommunity/blob/main/images/hz_5.png?raw=true)"
   ]
  },
  {
   "cell_type": "markdown",
   "metadata": {},
   "source": [
    "## Prompt 10\n",
    "\n",
    "Prompt: Received an Alert from Community camera, what's happening in this picture?\n",
    "- Image: https://github.com/AmitXShukla/GoogleCommunity/blob/main/images/hz_7.png?raw=true\n",
    "- Answer:\n",
    "- Rating:\n",
    "\n",
    "![Prompt 9](https://github.com/AmitXShukla/GoogleCommunity/blob/main/images/hz_7.png?raw=true)"
   ]
  },
  {
   "cell_type": "markdown",
   "metadata": {},
   "source": [
    "## Prompt 11\n",
    "\n",
    "Prompt: Received an Alert from Community camera, do you see many people gathered, is it stampede conditions?\n",
    "- Image: https://github.com/AmitXShukla/GoogleCommunity/blob/main/images/hz_8.png?raw=true\n",
    "- Answer:\n",
    "- Rating:\n",
    "\n",
    "![Prompt 11](https://github.com/AmitXShukla/GoogleCommunity/blob/main/images/hz_8.png?raw=true)"
   ]
  },
  {
   "cell_type": "markdown",
   "metadata": {},
   "source": [
    "## Prompt 12\n",
    "\n",
    "Prompt: Received an Alert from Google Nestcam Garden Camera, is there any person who is just outside of boundyy, is the person appears to be jumping off the wall?\n",
    "- Image: https://github.com/AmitXShukla/GoogleCommunity/blob/main/images/pic_8.png?raw=true\n",
    "- Answer:\n",
    "- Rating:\n",
    "\n",
    "![Prompt 12](https://github.com/AmitXShukla/GoogleCommunity/blob/main/images/pic_8.png?raw=true)"
   ]
  },
  {
   "cell_type": "markdown",
   "metadata": {},
   "source": [
    "## Prompt 13\n",
    "\n",
    "Prompt: here is an alert image of my garage camera, is this a garbage disposal truck and do you see my trash bins empty?\n",
    "- Image: https://github.com/AmitXShukla/GoogleCommunity/blob/main/images/pic_3.png?raw=true\n",
    "- Answer:\n",
    "- Rating:\n",
    "\n",
    "![Prompt 13](https://github.com/AmitXShukla/GoogleCommunity/blob/main/images/pic_3.png?raw=true)"
   ]
  },
  {
   "cell_type": "markdown",
   "metadata": {},
   "source": [
    "## Prompt 14\n",
    "I use manim to create videos. I use manim to display one line of code and using self.voiceover I explain this same piece of code.\n",
    "\n",
    "Write a program to create this manim script."
   ]
  },
  {
   "cell_type": "markdown",
   "metadata": {},
   "source": [
    "## Prompt 15\n",
    "I manage HR department in my organization, I am writing an AI Agent which can entirely automate the process of timesheet, tasks assignment and expense operations.\n",
    "\n",
    "Help me write an AI Agent program (I prefer to use Microsoft Autogen AI Agent framework). help me write an AI Agent program which auto fills timesheets of an employee if he has not applied for any leave of absences and send an email to this employee stating that this is an automated timesheets already filled out for him, and if he approves it, this AI Agent can submit this timesheet on his behalf."
   ]
  },
  {
   "cell_type": "markdown",
   "metadata": {},
   "source": [
    "## Prompt 16\n",
    "\n",
    "Prompt: Read this XRay and tell me if I have broken Ribs\n",
    "- Image: https://prod-images-static.radiopaedia.org/images/55877947/rib_fracture_big_gallery.jpeg\n",
    "- Answer:\n",
    "- Rating:\n",
    "\n",
    "![Prompt 16](https://prod-images-static.radiopaedia.org/images/55877947/rib_fracture_big_gallery.jpeg)"
   ]
  },
  {
   "cell_type": "markdown",
   "metadata": {},
   "source": [
    "## Prompt 17\n",
    "\n",
    "Prompt: Can you diagnose cardiac arrhythmia from hearbeat?\n",
    "- Audio: https://github.com/AmitXShukla/GoogleCommunity/blob/main/images/heartbeat.mp3\n",
    "- Answer:\n",
    "- Rating:"
   ]
  },
  {
   "cell_type": "markdown",
   "metadata": {},
   "source": [
    "## getting started with xAI API"
   ]
  },
  {
   "cell_type": "code",
   "execution_count": null,
   "metadata": {},
   "outputs": [],
   "source": [
    "!pip install openai\n",
    "!export XAI_API_KEY=\"your_api_key\""
   ]
  },
  {
   "cell_type": "code",
   "execution_count": null,
   "metadata": {},
   "outputs": [],
   "source": [
    "import os\n",
    "from openai import OpenAI\n",
    "\n",
    "import os\n",
    "from openai import OpenAI\n",
    "\n",
    "XAI_API_KEY = os.getenv(\"XAI_API_KEY\")\n",
    "image_url = (\n",
    "    \"https://science.nasa.gov/wp-content/uploads/2023/09/web-first-images-release.png\"\n",
    ")\n",
    "\n",
    "client = OpenAI(\n",
    "    api_key=XAI_API_KEY,\n",
    "    base_url=\"https://api.x.ai/v1\",\n",
    ")\n",
    "\n",
    "messages = [\n",
    "    {\n",
    "        \"role\": \"user\",\n",
    "        \"content\": [\n",
    "            {\n",
    "                \"type\": \"image_url\",\n",
    "                \"image_url\": {\n",
    "                    \"url\": image_url,\n",
    "                    \"detail\": \"high\",\n",
    "                },\n",
    "            },\n",
    "            {\n",
    "                \"type\": \"text\",\n",
    "                \"text\": \"What's in this image?\",\n",
    "            },\n",
    "        ],\n",
    "    },\n",
    "]\n",
    "\n",
    "completion = client.chat.completions.create(\n",
    "    model=\"grok-2-vision-latest\",\n",
    "    messages=messages,\n",
    "    temperature=0.01,\n",
    ")\n",
    "\n",
    "print(completion.choices[0].message.content)"
   ]
  },
  {
   "cell_type": "code",
   "execution_count": null,
   "metadata": {},
   "outputs": [],
   "source": [
    "!pip install openai"
   ]
  },
  {
   "cell_type": "code",
   "execution_count": null,
   "metadata": {},
   "outputs": [],
   "source": []
  }
 ],
 "metadata": {
  "kernelspec": {
   "display_name": "GenAI",
   "language": "python",
   "name": "python3"
  },
  "language_info": {
   "codemirror_mode": {
    "name": "ipython",
    "version": 3
   },
   "file_extension": ".py",
   "mimetype": "text/x-python",
   "name": "python",
   "nbconvert_exporter": "python",
   "pygments_lexer": "ipython3",
   "version": "3.12.8"
  }
 },
 "nbformat": 4,
 "nbformat_minor": 2
}
