{
 "cells": [
  {
   "cell_type": "markdown",
   "metadata": {},
   "source": [
    "## RRCrossWatch.ai\n",
    "---\n",
    "`Claude GenAI App - An automated vision AI, which watches Railroad Crossing for potential Hazard`\n",
    "\n",
    "TODO: - Was working on this several years now, and it's too expensive to collect such images data and train neural network on it. Training is very expensive and my models just couldn't beat Claude or Open AI Image models\n",
    "\n",
    "The objective is to develop an AI capable of identifying objects based on input images and classify / tag Rail road crossing or any place else where crowd or hazard object close monitoring is required.\n",
    "\n",
    "**Author:** Amit Shukla\n",
    "\n",
    "**Connect**\n",
    "Author: Amit Shukla\n",
    "\n",
    "[https://github.com/AmitXShukla](https://github.com/AmitXShukla)\n",
    "\n",
    "[https://x.com/ashuklax](https://x.com/AShuklaX)\n",
    "\n",
    "[https://youtube.com/@Amit.Shukla](https://youtube.com/@Amit.Shukla)\n",
    "\n",
    "---\n",
    "\n",
    "In this section, we will build an app that\n",
    "\n",
    "1. processes images from an automated movement camera device.\n",
    "2. The app will analyze the image content for potential hazards.\n",
    "3. If a potential hazard is detected, the app will automatically send an alert via email or text message."
   ]
  },
  {
   "cell_type": "markdown",
   "metadata": {},
   "source": []
  }
 ],
 "metadata": {
  "language_info": {
   "name": "python"
  }
 },
 "nbformat": 4,
 "nbformat_minor": 2
}
