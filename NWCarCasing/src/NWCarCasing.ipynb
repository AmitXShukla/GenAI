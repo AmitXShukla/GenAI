{
 "cells": [
  {
   "cell_type": "markdown",
   "metadata": {},
   "source": [
    "## NWCarCasing.ai\n",
    "---\n",
    "`Claude GenAI App - Neighborhood watch car casing`\n",
    "\n",
    "TODO: - Tenants license plate information in app as well\n",
    "\n",
    "`NWCarCasing.ai:` A Vision-Based AI System: Automated Identification and Tagging of Non-Neighborhood Vehicles Exhibiting Suspicious Behavior.\n",
    "\n",
    "The objective is to develop an AI capable of identifying car based on input images and classify / tag car if car doesn't belong to any tenants in neighborhood.\n",
    "\n",
    "**Author:** Amit Shukla\n",
    "\n",
    "**Connect**\n",
    "Author: Amit Shukla\n",
    "\n",
    "[https://github.com/AmitXShukla](https://github.com/AmitXShukla)\n",
    "\n",
    "[https://x.com/ashuklax](https://x.com/AShuklaX)\n",
    "\n",
    "[https://youtube.com/@Amit.Shukla](https://youtube.com/@Amit.Shukla)\n",
    "\n",
    "---\n",
    "\n",
    "In this blog, we will create an automated neighborhood watch app\n",
    "\n",
    "1. where neighbors register their car information and upload images.\n",
    "2. The car information will be stored in a vector database.\n",
    "3. The app will process images of guest cars using an automated movement camera device.\n",
    "4. The guest car images and related information will be compared with the vector database.\n",
    "5. If a potential hazard is detected, the app will automatically send an alert via email or text message."
   ]
  },
  {
   "cell_type": "markdown",
   "metadata": {},
   "source": []
  }
 ],
 "metadata": {
  "language_info": {
   "name": "python"
  }
 },
 "nbformat": 4,
 "nbformat_minor": 2
}
