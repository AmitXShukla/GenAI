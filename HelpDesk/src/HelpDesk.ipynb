{
 "cells": [
  {
   "cell_type": "markdown",
   "metadata": {},
   "source": [
    "## HelpDesk.ai\n",
    "---\n",
    "`Claude GenAI App - Revolutionizing Customer Support throuh Automation`\n",
    "\n",
    "`HelpDesk.ai:` A Smart AI for Answering Questions from internal knowledgebase: Harnessing the Power of RAG LLMs, SQL /customer databases and Documents.\n",
    "\n",
    "The objective is to develop an AI capable of answering questions by harnessing information from websites, tutorials, ServiceNow, customer support resources, and transactional databases.\n",
    "\n",
    "Streamlining Interactions: An Exploration of Automated Chat Moderation and Command Response Systems\n",
    "\n",
    "**Author:** Amit Shukla\n",
    "\n",
    "**Connect**\n",
    "Author: Amit Shukla\n",
    "\n",
    "[https://github.com/AmitXShukla](https://github.com/AmitXShukla)\n",
    "\n",
    "[https://x.com/ashuklax](https://x.com/AShuklaX)\n",
    "\n",
    "[https://youtube.com/@Amit.Shukla](https://youtube.com/@Amit.Shukla)\n",
    "\n",
    "---\n",
    "\n",
    "In this blog, we will build an automated Helpdesk system that\n",
    "1. authenticates user identity and validates user queries based on their access level.\n",
    "2. The system will accept user queries and retrieve the requested information from the appropriate database using a generated SQL query.\n",
    "3. The system will also utilize a vector database to search for relevant job-aids, user manuals, and service now/help desk information.\n",
    "4. Finally, the system will format the response using a language model and provide it to the user.\n",
    "\n",
    "The automated Helpdesk system will ensure that users can access the information they need efficiently and securely."
   ]
  },
  {
   "cell_type": "markdown",
   "metadata": {},
   "source": [
    "## Function Calling"
   ]
  },
  {
   "cell_type": "markdown",
   "metadata": {},
   "source": []
  }
 ],
 "metadata": {
  "language_info": {
   "name": "python"
  }
 },
 "nbformat": 4,
 "nbformat_minor": 2
}
